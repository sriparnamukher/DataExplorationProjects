{
 "cells": [
  {
   "cell_type": "markdown",
   "metadata": {},
   "source": [
    "## Connect Jupyter Notebook To Database"
   ]
  },
  {
   "cell_type": "code",
   "execution_count": 1,
   "metadata": {},
   "outputs": [],
   "source": [
    "%%capture\n",
    "%load_ext sql\n",
    "%sql sqlite:///chinook.db"
   ]
  },
  {
   "cell_type": "code",
   "execution_count": 2,
   "metadata": {},
   "outputs": [],
   "source": [
    "import pandas as pd\n",
    "import sqlite3"
   ]
  },
  {
   "cell_type": "markdown",
   "metadata": {},
   "source": [
    "## Overview Of Chinook.db Database"
   ]
  },
  {
   "cell_type": "markdown",
   "metadata": {},
   "source": [
    "We will find tables and views present in the chinook.db"
   ]
  },
  {
   "cell_type": "code",
   "execution_count": 3,
   "metadata": {},
   "outputs": [
    {
     "name": "stdout",
     "output_type": "stream",
     "text": [
      " * sqlite:///chinook.db\n",
      "Done.\n"
     ]
    },
    {
     "data": {
      "text/html": [
       "<table>\n",
       "    <thead>\n",
       "        <tr>\n",
       "            <th>type</th>\n",
       "            <th>name</th>\n",
       "            <th>tbl_name</th>\n",
       "            <th>rootpage</th>\n",
       "            <th>sql</th>\n",
       "        </tr>\n",
       "    </thead>\n",
       "    <tbody>\n",
       "        <tr>\n",
       "            <td>table</td>\n",
       "            <td>album</td>\n",
       "            <td>album</td>\n",
       "            <td>2</td>\n",
       "            <td>CREATE TABLE [album]<br>(<br>    [album_id] INTEGER PRIMARY KEY NOT NULL,<br>    [title] NVARCHAR(160)  NOT NULL,<br>    [artist_id] INTEGER  NOT NULL,<br>    FOREIGN KEY ([artist_id]) REFERENCES [artist] ([artist_id]) <br>\t\tON DELETE NO ACTION ON UPDATE NO ACTION<br>)</td>\n",
       "        </tr>\n",
       "        <tr>\n",
       "            <td>table</td>\n",
       "            <td>artist</td>\n",
       "            <td>artist</td>\n",
       "            <td>3</td>\n",
       "            <td>CREATE TABLE [artist]<br>(<br>    [artist_id] INTEGER PRIMARY KEY NOT NULL,<br>    [name] NVARCHAR(120)<br>)</td>\n",
       "        </tr>\n",
       "        <tr>\n",
       "            <td>table</td>\n",
       "            <td>customer</td>\n",
       "            <td>customer</td>\n",
       "            <td>4</td>\n",
       "            <td>CREATE TABLE [customer]<br>(<br>    [customer_id] INTEGER PRIMARY KEY NOT NULL,<br>    [first_name] NVARCHAR(40)  NOT NULL,<br>    [last_name] NVARCHAR(20)  NOT NULL,<br>    [company] NVARCHAR(80),<br>    [address] NVARCHAR(70),<br>    [city] NVARCHAR(40),<br>    [state] NVARCHAR(40),<br>    [country] NVARCHAR(40),<br>    [postal_code] NVARCHAR(10),<br>    [phone] NVARCHAR(24),<br>    [fax] NVARCHAR(24),<br>    [email] NVARCHAR(60)  NOT NULL,<br>    [support_rep_id] INTEGER,<br>    FOREIGN KEY ([support_rep_id]) REFERENCES [employee] ([employee_id]) <br>\t\tON DELETE NO ACTION ON UPDATE NO ACTION<br>)</td>\n",
       "        </tr>\n",
       "        <tr>\n",
       "            <td>table</td>\n",
       "            <td>employee</td>\n",
       "            <td>employee</td>\n",
       "            <td>5</td>\n",
       "            <td>CREATE TABLE [employee]<br>(<br>    [employee_id] INTEGER PRIMARY KEY NOT NULL,<br>    [last_name] NVARCHAR(20)  NOT NULL,<br>    [first_name] NVARCHAR(20)  NOT NULL,<br>    [title] NVARCHAR(30),<br>    [reports_to] INTEGER,<br>    [birthdate] DATETIME,<br>    [hire_date] DATETIME,<br>    [address] NVARCHAR(70),<br>    [city] NVARCHAR(40),<br>    [state] NVARCHAR(40),<br>    [country] NVARCHAR(40),<br>    [postal_code] NVARCHAR(10),<br>    [phone] NVARCHAR(24),<br>    [fax] NVARCHAR(24),<br>    [email] NVARCHAR(60),<br>    FOREIGN KEY ([reports_to]) REFERENCES [employee] ([employee_id]) <br>\t\tON DELETE NO ACTION ON UPDATE NO ACTION<br>)</td>\n",
       "        </tr>\n",
       "        <tr>\n",
       "            <td>table</td>\n",
       "            <td>genre</td>\n",
       "            <td>genre</td>\n",
       "            <td>6</td>\n",
       "            <td>CREATE TABLE [genre]<br>(<br>    [genre_id] INTEGER PRIMARY KEY NOT NULL,<br>    [name] NVARCHAR(120)<br>)</td>\n",
       "        </tr>\n",
       "        <tr>\n",
       "            <td>table</td>\n",
       "            <td>invoice</td>\n",
       "            <td>invoice</td>\n",
       "            <td>7</td>\n",
       "            <td>CREATE TABLE [invoice]<br>(<br>    [invoice_id] INTEGER PRIMARY KEY NOT NULL,<br>    [customer_id] INTEGER  NOT NULL,<br>    [invoice_date] DATETIME  NOT NULL,<br>    [billing_address] NVARCHAR(70),<br>    [billing_city] NVARCHAR(40),<br>    [billing_state] NVARCHAR(40),<br>    [billing_country] NVARCHAR(40),<br>    [billing_postal_code] NVARCHAR(10),<br>    [total] NUMERIC(10,2)  NOT NULL,<br>    FOREIGN KEY ([customer_id]) REFERENCES [customer] ([customer_id]) <br>\t\tON DELETE NO ACTION ON UPDATE NO ACTION<br>)</td>\n",
       "        </tr>\n",
       "        <tr>\n",
       "            <td>table</td>\n",
       "            <td>invoice_line</td>\n",
       "            <td>invoice_line</td>\n",
       "            <td>8</td>\n",
       "            <td>CREATE TABLE [invoice_line]<br>(<br>    [invoice_line_id] INTEGER PRIMARY KEY NOT NULL,<br>    [invoice_id] INTEGER  NOT NULL,<br>    [track_id] INTEGER  NOT NULL,<br>    [unit_price] NUMERIC(10,2)  NOT NULL,<br>    [quantity] INTEGER  NOT NULL,<br>    FOREIGN KEY ([invoice_id]) REFERENCES [invoice] ([invoice_id]) <br>\t\tON DELETE NO ACTION ON UPDATE NO ACTION,<br>    FOREIGN KEY ([track_id]) REFERENCES [track] ([track_id]) <br>\t\tON DELETE NO ACTION ON UPDATE NO ACTION<br>)</td>\n",
       "        </tr>\n",
       "        <tr>\n",
       "            <td>table</td>\n",
       "            <td>media_type</td>\n",
       "            <td>media_type</td>\n",
       "            <td>9</td>\n",
       "            <td>CREATE TABLE [media_type]<br>(<br>    [media_type_id] INTEGER PRIMARY KEY NOT NULL,<br>    [name] NVARCHAR(120)<br>)</td>\n",
       "        </tr>\n",
       "        <tr>\n",
       "            <td>table</td>\n",
       "            <td>playlist</td>\n",
       "            <td>playlist</td>\n",
       "            <td>10</td>\n",
       "            <td>CREATE TABLE [playlist]<br>(<br>    [playlist_id] INTEGER PRIMARY KEY NOT NULL,<br>    [name] NVARCHAR(120)<br>)</td>\n",
       "        </tr>\n",
       "        <tr>\n",
       "            <td>table</td>\n",
       "            <td>playlist_track</td>\n",
       "            <td>playlist_track</td>\n",
       "            <td>11</td>\n",
       "            <td>CREATE TABLE [playlist_track]<br>(<br>    [playlist_id] INTEGER  NOT NULL,<br>    [track_id] INTEGER  NOT NULL,<br>    CONSTRAINT [pk_playlist_track] PRIMARY KEY  ([playlist_id], [track_id]),<br>    FOREIGN KEY ([playlist_id]) REFERENCES [playlist] ([playlist_id]) <br>\t\tON DELETE NO ACTION ON UPDATE NO ACTION,<br>    FOREIGN KEY ([track_id]) REFERENCES [track] ([track_id]) <br>\t\tON DELETE NO ACTION ON UPDATE NO ACTION<br>)</td>\n",
       "        </tr>\n",
       "        <tr>\n",
       "            <td>table</td>\n",
       "            <td>track</td>\n",
       "            <td>track</td>\n",
       "            <td>13</td>\n",
       "            <td>CREATE TABLE [track]<br>(<br>    [track_id] INTEGER PRIMARY KEY NOT NULL,<br>    [name] NVARCHAR(200)  NOT NULL,<br>    [album_id] INTEGER,<br>    [media_type_id] INTEGER  NOT NULL,<br>    [genre_id] INTEGER,<br>    [composer] NVARCHAR(220),<br>    [milliseconds] INTEGER  NOT NULL,<br>    [bytes] INTEGER,<br>    [unit_price] NUMERIC(10,2)  NOT NULL,<br>    FOREIGN KEY ([album_id]) REFERENCES [album] ([album_id]) <br>\t\tON DELETE NO ACTION ON UPDATE NO ACTION,<br>    FOREIGN KEY ([genre_id]) REFERENCES [genre] ([genre_id]) <br>\t\tON DELETE NO ACTION ON UPDATE NO ACTION,<br>    FOREIGN KEY ([media_type_id]) REFERENCES [media_type] ([media_type_id]) <br>\t\tON DELETE NO ACTION ON UPDATE NO ACTION<br>)</td>\n",
       "        </tr>\n",
       "        <tr>\n",
       "            <td>view</td>\n",
       "            <td>sel_cols</td>\n",
       "            <td>sel_cols</td>\n",
       "            <td>0</td>\n",
       "            <td>CREATE VIEW sel_cols AS<br>                        SELECT<br>                           c.country,<br>                           c.customer_id,<br>                           i.invoice_id,<br>                           i.total &quot;total per invoice&quot;<br>                         FROM customer c<br>                         INNER JOIN invoice i ON c.customer_id = i.customer_id</td>\n",
       "        </tr>\n",
       "        <tr>\n",
       "            <td>view</td>\n",
       "            <td>combined_record</td>\n",
       "            <td>combined_record</td>\n",
       "            <td>0</td>\n",
       "            <td>CREATE VIEW combined_record AS<br>    SELECT sc.customer_id, <br>            sc.invoice_id,<br>            sc.country,<br>            sc.&quot;total per invoice&quot; total_per_invoice,<br>            il.invoice_line_id,<br>            t.track_id,<br>            g.genre_id,<br>            g.name genre_name        <br>    FROM sel_cols sc<br>    INNER JOIN invoice_line il<br>    ON sc.invoice_id == il.invoice_id<br>    INNER JOIN track t<br>    ON t.track_id == il.track_id<br>    INNER JOIN genre g<br>    ON g.genre_id == t.genre_id</td>\n",
       "        </tr>\n",
       "        <tr>\n",
       "            <td>view</td>\n",
       "            <td>sales_rep_customer_details</td>\n",
       "            <td>sales_rep_customer_details</td>\n",
       "            <td>0</td>\n",
       "            <td>CREATE VIEW sales_rep_customer_details AS<br>    SELECT e.employee_id,<br>            e.first_name||&#x27; &#x27;||e.last_name &quot;sales_rep_name&quot;,<br>            e.hire_date,<br>            c.customer_id,<br>            i.invoice_id,<br>            i.total total_per_invoice<br>    FROM employee e<br>    INNER JOIN customer c<br>    ON e.employee_id == c.support_rep_id<br>    INNER JOIN invoice i<br>    ON c.customer_id == i.customer_id<br>    WHERE e.title == &#x27;Sales Support Agent&#x27;</td>\n",
       "        </tr>\n",
       "        <tr>\n",
       "            <td>view</td>\n",
       "            <td>country_purchase_data</td>\n",
       "            <td>country_purchase_data</td>\n",
       "            <td>0</td>\n",
       "            <td>CREATE VIEW country_purchase_data AS<br>    WITH <br>        number_cust_per_country AS<br>            (<br>            SELECT country,<br>                 COUNT(customer_id) num_cust<br>            FROM customer<br>            GROUP BY country<br>            ),<br>        number_orders_total_value_per_country AS<br>            (<br>            SELECT country,<br>                COUNT(invoice_id) num_orders,<br>                SUM(&quot;total per invoice&quot;) total_value<br>            FROM sel_cols<br>            GROUP BY country     <br>            )<br><br>    SELECT nc.country,<br>            nc.num_cust total_number_of_customers,<br>            notv.num_orders total_number_of_orders,<br>            notv.total_value total_value_of_sales<br>    FROM number_cust_per_country nc<br>    INNER JOIN number_orders_total_value_per_country notv<br>    ON nc.country == notv.country</td>\n",
       "        </tr>\n",
       "        <tr>\n",
       "            <td>view</td>\n",
       "            <td>country_relabelled_purchase_data</td>\n",
       "            <td>country_relabelled_purchase_data</td>\n",
       "            <td>0</td>\n",
       "            <td>CREATE VIEW country_relabelled_purchase_data AS<br>    SELECT country_relabelled country,<br>            SUM(total_number_of_customers) total_number_of_customers,<br>            SUM(total_number_of_orders) total_number_of_orders,<br>            SUM(total_value_of_sales) total_value_of_sales<br>    FROM (<br>            SELECT *,<br>                    CASE<br>                        WHEN total_number_of_customers == 1 THEN &quot;Other&quot;<br>                        ELSE country<br>                    END AS country_relabelled<br>            FROM country_purchase_data<br>            )<br>    GROUP BY country_relabelled</td>\n",
       "        </tr>\n",
       "    </tbody>\n",
       "</table>"
      ],
      "text/plain": [
       "[('table', 'album', 'album', 2, 'CREATE TABLE [album]\\n(\\n    [album_id] INTEGER PRIMARY KEY NOT NULL,\\n    [title] NVARCHAR(160)  NOT NULL,\\n    [artist_id] INTEGER  NOT NULL,\\n    FOREIGN KEY ([artist_id]) REFERENCES [artist] ([artist_id]) \\n\\t\\tON DELETE NO ACTION ON UPDATE NO ACTION\\n)'),\n",
       " ('table', 'artist', 'artist', 3, 'CREATE TABLE [artist]\\n(\\n    [artist_id] INTEGER PRIMARY KEY NOT NULL,\\n    [name] NVARCHAR(120)\\n)'),\n",
       " ('table', 'customer', 'customer', 4, 'CREATE TABLE [customer]\\n(\\n    [customer_id] INTEGER PRIMARY KEY NOT NULL,\\n    [first_name] NVARCHAR(40)  NOT NULL,\\n    [last_name] NVARCHAR(20)   ... (276 characters truncated) ...  [support_rep_id] INTEGER,\\n    FOREIGN KEY ([support_rep_id]) REFERENCES [employee] ([employee_id]) \\n\\t\\tON DELETE NO ACTION ON UPDATE NO ACTION\\n)'),\n",
       " ('table', 'employee', 'employee', 5, 'CREATE TABLE [employee]\\n(\\n    [employee_id] INTEGER PRIMARY KEY NOT NULL,\\n    [last_name] NVARCHAR(20)  NOT NULL,\\n    [first_name] NVARCHAR(20)   ... (310 characters truncated) ... 4),\\n    [email] NVARCHAR(60),\\n    FOREIGN KEY ([reports_to]) REFERENCES [employee] ([employee_id]) \\n\\t\\tON DELETE NO ACTION ON UPDATE NO ACTION\\n)'),\n",
       " ('table', 'genre', 'genre', 6, 'CREATE TABLE [genre]\\n(\\n    [genre_id] INTEGER PRIMARY KEY NOT NULL,\\n    [name] NVARCHAR(120)\\n)'),\n",
       " ('table', 'invoice', 'invoice', 7, 'CREATE TABLE [invoice]\\n(\\n    [invoice_id] INTEGER PRIMARY KEY NOT NULL,\\n    [customer_id] INTEGER  NOT NULL,\\n    [invoice_date] DATETIME  NOT NUL ... (195 characters truncated) ... tal] NUMERIC(10,2)  NOT NULL,\\n    FOREIGN KEY ([customer_id]) REFERENCES [customer] ([customer_id]) \\n\\t\\tON DELETE NO ACTION ON UPDATE NO ACTION\\n)'),\n",
       " ('table', 'invoice_line', 'invoice_line', 8, 'CREATE TABLE [invoice_line]\\n(\\n    [invoice_line_id] INTEGER PRIMARY KEY NOT NULL,\\n    [invoice_id] INTEGER  NOT NULL,\\n    [track_id] INTEGER  NOT ... (161 characters truncated) ...  DELETE NO ACTION ON UPDATE NO ACTION,\\n    FOREIGN KEY ([track_id]) REFERENCES [track] ([track_id]) \\n\\t\\tON DELETE NO ACTION ON UPDATE NO ACTION\\n)'),\n",
       " ('table', 'media_type', 'media_type', 9, 'CREATE TABLE [media_type]\\n(\\n    [media_type_id] INTEGER PRIMARY KEY NOT NULL,\\n    [name] NVARCHAR(120)\\n)'),\n",
       " ('table', 'playlist', 'playlist', 10, 'CREATE TABLE [playlist]\\n(\\n    [playlist_id] INTEGER PRIMARY KEY NOT NULL,\\n    [name] NVARCHAR(120)\\n)'),\n",
       " ('table', 'playlist_track', 'playlist_track', 11, 'CREATE TABLE [playlist_track]\\n(\\n    [playlist_id] INTEGER  NOT NULL,\\n    [track_id] INTEGER  NOT NULL,\\n    CONSTRAINT [pk_playlist_track] PRIMARY ... (114 characters truncated) ...  DELETE NO ACTION ON UPDATE NO ACTION,\\n    FOREIGN KEY ([track_id]) REFERENCES [track] ([track_id]) \\n\\t\\tON DELETE NO ACTION ON UPDATE NO ACTION\\n)'),\n",
       " ('table', 'track', 'track', 13, 'CREATE TABLE [track]\\n(\\n    [track_id] INTEGER PRIMARY KEY NOT NULL,\\n    [name] NVARCHAR(200)  NOT NULL,\\n    [album_id] INTEGER,\\n    [media_type_ ... (377 characters truncated) ... ON ON UPDATE NO ACTION,\\n    FOREIGN KEY ([media_type_id]) REFERENCES [media_type] ([media_type_id]) \\n\\t\\tON DELETE NO ACTION ON UPDATE NO ACTION\\n)'),\n",
       " ('view', 'sel_cols', 'sel_cols', 0, 'CREATE VIEW sel_cols AS\\n                        SELECT\\n                           c.country,\\n                           c.customer_id,\\n           ... (59 characters truncated) ... i.total \"total per invoice\"\\n                         FROM customer c\\n                         INNER JOIN invoice i ON c.customer_id = i.customer_id'),\n",
       " ('view', 'combined_record', 'combined_record', 0, 'CREATE VIEW combined_record AS\\n    SELECT sc.customer_id, \\n            sc.invoice_id,\\n            sc.country,\\n            sc.\"total per invoice\"  ... (199 characters truncated) ...  ON sc.invoice_id == il.invoice_id\\n    INNER JOIN track t\\n    ON t.track_id == il.track_id\\n    INNER JOIN genre g\\n    ON g.genre_id == t.genre_id'),\n",
       " ('view', 'sales_rep_customer_details', 'sales_rep_customer_details', 0, 'CREATE VIEW sales_rep_customer_details AS\\n    SELECT e.employee_id,\\n            e.first_name||\\' \\'||e.last_name \"sales_rep_name\",\\n            e.h ... (155 characters truncated) ...   ON e.employee_id == c.support_rep_id\\n    INNER JOIN invoice i\\n    ON c.customer_id == i.customer_id\\n    WHERE e.title == \\'Sales Support Agent\\''),\n",
       " ('view', 'country_purchase_data', 'country_purchase_data', 0, 'CREATE VIEW country_purchase_data AS\\n    WITH \\n        number_cust_per_country AS\\n            (\\n            SELECT country,\\n                 COU ... (533 characters truncated) ... tal_value_of_sales\\n    FROM number_cust_per_country nc\\n    INNER JOIN number_orders_total_value_per_country notv\\n    ON nc.country == notv.country'),\n",
       " ('view', 'country_relabelled_purchase_data', 'country_relabelled_purchase_data', 0, 'CREATE VIEW country_relabelled_purchase_data AS\\n    SELECT country_relabelled country,\\n            SUM(total_number_of_customers) total_number_of_c ... (293 characters truncated) ...   ELSE country\\n                    END AS country_relabelled\\n            FROM country_purchase_data\\n            )\\n    GROUP BY country_relabelled')]"
      ]
     },
     "execution_count": 3,
     "metadata": {},
     "output_type": "execute_result"
    }
   ],
   "source": [
    "%%sql\n",
    "SELECT *\n",
    "FROM sqlite_master\n",
    "WHERE type IN ('table', 'view');\n"
   ]
  },
  {
   "cell_type": "markdown",
   "metadata": {},
   "source": [
    "## Project Goal-1"
   ]
  },
  {
   "cell_type": "markdown",
   "metadata": {},
   "source": [
    "The chinook store has signed a deal with a record label company and has to select three among four albumns by new artists to promote in USA. We have to help chinook store select the three albumns that could be popular in USA.\n",
    "Since chinook.db has data on genres we will select the three albumns based on three most popular genres in USA.  \n",
    "\n",
    "Here are the fields we are interested in from the following tables:\n",
    "\n",
    "|Table|Interested Fields|\n",
    "|---|---|\n",
    "|genre|name|\n",
    "|customer|country|"
   ]
  },
  {
   "cell_type": "markdown",
   "metadata": {},
   "source": [
    "### Overview Of Genre Table"
   ]
  },
  {
   "cell_type": "code",
   "execution_count": 4,
   "metadata": {},
   "outputs": [
    {
     "name": "stdout",
     "output_type": "stream",
     "text": [
      " * sqlite:///chinook.db\n",
      "Done.\n"
     ]
    },
    {
     "data": {
      "text/html": [
       "<table>\n",
       "    <thead>\n",
       "        <tr>\n",
       "            <th>genre_id</th>\n",
       "            <th>name</th>\n",
       "        </tr>\n",
       "    </thead>\n",
       "    <tbody>\n",
       "        <tr>\n",
       "            <td>1</td>\n",
       "            <td>Rock</td>\n",
       "        </tr>\n",
       "        <tr>\n",
       "            <td>2</td>\n",
       "            <td>Jazz</td>\n",
       "        </tr>\n",
       "        <tr>\n",
       "            <td>3</td>\n",
       "            <td>Metal</td>\n",
       "        </tr>\n",
       "        <tr>\n",
       "            <td>4</td>\n",
       "            <td>Alternative &amp; Punk</td>\n",
       "        </tr>\n",
       "        <tr>\n",
       "            <td>5</td>\n",
       "            <td>Rock And Roll</td>\n",
       "        </tr>\n",
       "    </tbody>\n",
       "</table>"
      ],
      "text/plain": [
       "[(1, 'Rock'),\n",
       " (2, 'Jazz'),\n",
       " (3, 'Metal'),\n",
       " (4, 'Alternative & Punk'),\n",
       " (5, 'Rock And Roll')]"
      ]
     },
     "execution_count": 4,
     "metadata": {},
     "output_type": "execute_result"
    }
   ],
   "source": [
    "%%sql\n",
    "SELECT * \n",
    "FROM genre\n",
    "LIMIT 5;"
   ]
  },
  {
   "cell_type": "markdown",
   "metadata": {},
   "source": [
    "We see that genre appears as Foreign Key (FK) in the track table. Now we will explore the track table."
   ]
  },
  {
   "cell_type": "markdown",
   "metadata": {},
   "source": [
    "### Overview Of Track Table"
   ]
  },
  {
   "cell_type": "code",
   "execution_count": 5,
   "metadata": {},
   "outputs": [
    {
     "name": "stdout",
     "output_type": "stream",
     "text": [
      " * sqlite:///chinook.db\n",
      "Done.\n"
     ]
    },
    {
     "data": {
      "text/html": [
       "<table>\n",
       "    <thead>\n",
       "        <tr>\n",
       "            <th>track_id</th>\n",
       "            <th>name</th>\n",
       "            <th>album_id</th>\n",
       "            <th>media_type_id</th>\n",
       "            <th>genre_id</th>\n",
       "            <th>composer</th>\n",
       "            <th>milliseconds</th>\n",
       "            <th>bytes</th>\n",
       "            <th>unit_price</th>\n",
       "        </tr>\n",
       "    </thead>\n",
       "    <tbody>\n",
       "        <tr>\n",
       "            <td>1</td>\n",
       "            <td>For Those About To Rock (We Salute You)</td>\n",
       "            <td>1</td>\n",
       "            <td>1</td>\n",
       "            <td>1</td>\n",
       "            <td>Angus Young, Malcolm Young, Brian Johnson</td>\n",
       "            <td>343719</td>\n",
       "            <td>11170334</td>\n",
       "            <td>0.99</td>\n",
       "        </tr>\n",
       "        <tr>\n",
       "            <td>2</td>\n",
       "            <td>Balls to the Wall</td>\n",
       "            <td>2</td>\n",
       "            <td>2</td>\n",
       "            <td>1</td>\n",
       "            <td>None</td>\n",
       "            <td>342562</td>\n",
       "            <td>5510424</td>\n",
       "            <td>0.99</td>\n",
       "        </tr>\n",
       "        <tr>\n",
       "            <td>3</td>\n",
       "            <td>Fast As a Shark</td>\n",
       "            <td>3</td>\n",
       "            <td>2</td>\n",
       "            <td>1</td>\n",
       "            <td>F. Baltes, S. Kaufman, U. Dirkscneider &amp; W. Hoffman</td>\n",
       "            <td>230619</td>\n",
       "            <td>3990994</td>\n",
       "            <td>0.99</td>\n",
       "        </tr>\n",
       "        <tr>\n",
       "            <td>4</td>\n",
       "            <td>Restless and Wild</td>\n",
       "            <td>3</td>\n",
       "            <td>2</td>\n",
       "            <td>1</td>\n",
       "            <td>F. Baltes, R.A. Smith-Diesel, S. Kaufman, U. Dirkscneider &amp; W. Hoffman</td>\n",
       "            <td>252051</td>\n",
       "            <td>4331779</td>\n",
       "            <td>0.99</td>\n",
       "        </tr>\n",
       "        <tr>\n",
       "            <td>5</td>\n",
       "            <td>Princess of the Dawn</td>\n",
       "            <td>3</td>\n",
       "            <td>2</td>\n",
       "            <td>1</td>\n",
       "            <td>Deaffy &amp; R.A. Smith-Diesel</td>\n",
       "            <td>375418</td>\n",
       "            <td>6290521</td>\n",
       "            <td>0.99</td>\n",
       "        </tr>\n",
       "    </tbody>\n",
       "</table>"
      ],
      "text/plain": [
       "[(1, 'For Those About To Rock (We Salute You)', 1, 1, 1, 'Angus Young, Malcolm Young, Brian Johnson', 343719, 11170334, 0.99),\n",
       " (2, 'Balls to the Wall', 2, 2, 1, None, 342562, 5510424, 0.99),\n",
       " (3, 'Fast As a Shark', 3, 2, 1, 'F. Baltes, S. Kaufman, U. Dirkscneider & W. Hoffman', 230619, 3990994, 0.99),\n",
       " (4, 'Restless and Wild', 3, 2, 1, 'F. Baltes, R.A. Smith-Diesel, S. Kaufman, U. Dirkscneider & W. Hoffman', 252051, 4331779, 0.99),\n",
       " (5, 'Princess of the Dawn', 3, 2, 1, 'Deaffy & R.A. Smith-Diesel', 375418, 6290521, 0.99)]"
      ]
     },
     "execution_count": 5,
     "metadata": {},
     "output_type": "execute_result"
    }
   ],
   "source": [
    "%%sql\n",
    "SELECT *\n",
    "FROM track\n",
    "LIMIT 5;"
   ]
  },
  {
   "cell_type": "markdown",
   "metadata": {},
   "source": [
    "- The genre_id field of track table references the genre_id field of genre table. This relationship will help to associate the tracks with their corresponding genres.\n",
    "- Since we are intereted in the country field of the customer table, we will now find a way to associate the genre table with the customer table. "
   ]
  },
  {
   "cell_type": "markdown",
   "metadata": {},
   "source": [
    "### Overview Of Customer Table"
   ]
  },
  {
   "cell_type": "code",
   "execution_count": 6,
   "metadata": {},
   "outputs": [
    {
     "name": "stdout",
     "output_type": "stream",
     "text": [
      " * sqlite:///chinook.db\n",
      "Done.\n"
     ]
    },
    {
     "data": {
      "text/html": [
       "<table>\n",
       "    <thead>\n",
       "        <tr>\n",
       "            <th>customer_id</th>\n",
       "            <th>first_name</th>\n",
       "            <th>last_name</th>\n",
       "            <th>company</th>\n",
       "            <th>address</th>\n",
       "            <th>city</th>\n",
       "            <th>state</th>\n",
       "            <th>country</th>\n",
       "            <th>postal_code</th>\n",
       "            <th>phone</th>\n",
       "            <th>fax</th>\n",
       "            <th>email</th>\n",
       "            <th>support_rep_id</th>\n",
       "        </tr>\n",
       "    </thead>\n",
       "    <tbody>\n",
       "        <tr>\n",
       "            <td>1</td>\n",
       "            <td>Luís</td>\n",
       "            <td>Gonçalves</td>\n",
       "            <td>Embraer - Empresa Brasileira de Aeronáutica S.A.</td>\n",
       "            <td>Av. Brigadeiro Faria Lima, 2170</td>\n",
       "            <td>São José dos Campos</td>\n",
       "            <td>SP</td>\n",
       "            <td>Brazil</td>\n",
       "            <td>12227-000</td>\n",
       "            <td>+55 (12) 3923-5555</td>\n",
       "            <td>+55 (12) 3923-5566</td>\n",
       "            <td>luisg@embraer.com.br</td>\n",
       "            <td>3</td>\n",
       "        </tr>\n",
       "        <tr>\n",
       "            <td>2</td>\n",
       "            <td>Leonie</td>\n",
       "            <td>Köhler</td>\n",
       "            <td>None</td>\n",
       "            <td>Theodor-Heuss-Straße 34</td>\n",
       "            <td>Stuttgart</td>\n",
       "            <td>None</td>\n",
       "            <td>Germany</td>\n",
       "            <td>70174</td>\n",
       "            <td>+49 0711 2842222</td>\n",
       "            <td>None</td>\n",
       "            <td>leonekohler@surfeu.de</td>\n",
       "            <td>5</td>\n",
       "        </tr>\n",
       "        <tr>\n",
       "            <td>3</td>\n",
       "            <td>François</td>\n",
       "            <td>Tremblay</td>\n",
       "            <td>None</td>\n",
       "            <td>1498 rue Bélanger</td>\n",
       "            <td>Montréal</td>\n",
       "            <td>QC</td>\n",
       "            <td>Canada</td>\n",
       "            <td>H2G 1A7</td>\n",
       "            <td>+1 (514) 721-4711</td>\n",
       "            <td>None</td>\n",
       "            <td>ftremblay@gmail.com</td>\n",
       "            <td>3</td>\n",
       "        </tr>\n",
       "        <tr>\n",
       "            <td>4</td>\n",
       "            <td>Bjørn</td>\n",
       "            <td>Hansen</td>\n",
       "            <td>None</td>\n",
       "            <td>Ullevålsveien 14</td>\n",
       "            <td>Oslo</td>\n",
       "            <td>None</td>\n",
       "            <td>Norway</td>\n",
       "            <td>0171</td>\n",
       "            <td>+47 22 44 22 22</td>\n",
       "            <td>None</td>\n",
       "            <td>bjorn.hansen@yahoo.no</td>\n",
       "            <td>4</td>\n",
       "        </tr>\n",
       "        <tr>\n",
       "            <td>5</td>\n",
       "            <td>František</td>\n",
       "            <td>Wichterlová</td>\n",
       "            <td>JetBrains s.r.o.</td>\n",
       "            <td>Klanova 9/506</td>\n",
       "            <td>Prague</td>\n",
       "            <td>None</td>\n",
       "            <td>Czech Republic</td>\n",
       "            <td>14700</td>\n",
       "            <td>+420 2 4172 5555</td>\n",
       "            <td>+420 2 4172 5555</td>\n",
       "            <td>frantisekw@jetbrains.com</td>\n",
       "            <td>4</td>\n",
       "        </tr>\n",
       "    </tbody>\n",
       "</table>"
      ],
      "text/plain": [
       "[(1, 'Luís', 'Gonçalves', 'Embraer - Empresa Brasileira de Aeronáutica S.A.', 'Av. Brigadeiro Faria Lima, 2170', 'São José dos Campos', 'SP', 'Brazil', '12227-000', '+55 (12) 3923-5555', '+55 (12) 3923-5566', 'luisg@embraer.com.br', 3),\n",
       " (2, 'Leonie', 'Köhler', None, 'Theodor-Heuss-Straße 34', 'Stuttgart', None, 'Germany', '70174', '+49 0711 2842222', None, 'leonekohler@surfeu.de', 5),\n",
       " (3, 'François', 'Tremblay', None, '1498 rue Bélanger', 'Montréal', 'QC', 'Canada', 'H2G 1A7', '+1 (514) 721-4711', None, 'ftremblay@gmail.com', 3),\n",
       " (4, 'Bjørn', 'Hansen', None, 'Ullevålsveien 14', 'Oslo', None, 'Norway', '0171', '+47 22 44 22 22', None, 'bjorn.hansen@yahoo.no', 4),\n",
       " (5, 'František', 'Wichterlová', 'JetBrains s.r.o.', 'Klanova 9/506', 'Prague', None, 'Czech Republic', '14700', '+420 2 4172 5555', '+420 2 4172 5555', 'frantisekw@jetbrains.com', 4)]"
      ]
     },
     "execution_count": 6,
     "metadata": {},
     "output_type": "execute_result"
    }
   ],
   "source": [
    "%%sql \n",
    "SELECT *\n",
    "FROM customer \n",
    "LIMIT 5;"
   ]
  },
  {
   "cell_type": "markdown",
   "metadata": {},
   "source": [
    "- The invoice table has customer_id field that references the customer associated with each invoices, and link the invoice to the country of purchase. A view `sel_cols` already exists in the database chinook.db that combines the customer and invoice tables, and contains customer_id, country, invoice_id, total fields. \n",
    "- Now we have to find a way to relate the invoice table with track table. \n",
    "- This can be done with the help of invoice_line table that references invoice table using invoice_id field, and references track table using track_id."
   ]
  },
  {
   "cell_type": "markdown",
   "metadata": {},
   "source": [
    "### Overview Of Sel_cols View"
   ]
  },
  {
   "cell_type": "code",
   "execution_count": 7,
   "metadata": {},
   "outputs": [
    {
     "name": "stdout",
     "output_type": "stream",
     "text": [
      " * sqlite:///chinook.db\n",
      "Done.\n"
     ]
    },
    {
     "data": {
      "text/html": [
       "<table>\n",
       "    <thead>\n",
       "        <tr>\n",
       "            <th>country</th>\n",
       "            <th>customer_id</th>\n",
       "            <th>invoice_id</th>\n",
       "            <th>total per invoice</th>\n",
       "        </tr>\n",
       "    </thead>\n",
       "    <tbody>\n",
       "        <tr>\n",
       "            <td>USA</td>\n",
       "            <td>18</td>\n",
       "            <td>1</td>\n",
       "            <td>15.84</td>\n",
       "        </tr>\n",
       "        <tr>\n",
       "            <td>Canada</td>\n",
       "            <td>30</td>\n",
       "            <td>2</td>\n",
       "            <td>9.9</td>\n",
       "        </tr>\n",
       "        <tr>\n",
       "            <td>France</td>\n",
       "            <td>40</td>\n",
       "            <td>3</td>\n",
       "            <td>1.98</td>\n",
       "        </tr>\n",
       "        <tr>\n",
       "            <td>USA</td>\n",
       "            <td>18</td>\n",
       "            <td>4</td>\n",
       "            <td>7.92</td>\n",
       "        </tr>\n",
       "        <tr>\n",
       "            <td>USA</td>\n",
       "            <td>27</td>\n",
       "            <td>5</td>\n",
       "            <td>16.83</td>\n",
       "        </tr>\n",
       "    </tbody>\n",
       "</table>"
      ],
      "text/plain": [
       "[('USA', 18, 1, 15.84),\n",
       " ('Canada', 30, 2, 9.9),\n",
       " ('France', 40, 3, 1.98),\n",
       " ('USA', 18, 4, 7.92),\n",
       " ('USA', 27, 5, 16.83)]"
      ]
     },
     "execution_count": 7,
     "metadata": {},
     "output_type": "execute_result"
    }
   ],
   "source": [
    "%%sql\n",
    "SELECT *\n",
    "FROM sel_cols\n",
    "LIMIT 5;"
   ]
  },
  {
   "cell_type": "markdown",
   "metadata": {},
   "source": [
    "Since we are interested in records sold only in USA, the field country is essential to filter such sales.  "
   ]
  },
  {
   "cell_type": "markdown",
   "metadata": {},
   "source": [
    "To the sel_cols view we have to combine invoice_line table on invoice_id, and the resultant table will be combined with track table on track_id field, and the result will then be combined with genre table on genre_id.<br>\n",
    "This is done using INNER JOIN between the tables.\n"
   ]
  },
  {
   "cell_type": "markdown",
   "metadata": {},
   "source": [
    "### Combine Tables For Analysis"
   ]
  },
  {
   "cell_type": "code",
   "execution_count": 8,
   "metadata": {},
   "outputs": [
    {
     "name": "stdout",
     "output_type": "stream",
     "text": [
      " * sqlite:///chinook.db\n",
      "Done.\n"
     ]
    },
    {
     "data": {
      "text/plain": [
       "[]"
      ]
     },
     "execution_count": 8,
     "metadata": {},
     "output_type": "execute_result"
    }
   ],
   "source": [
    "%%sql\n",
    "CREATE VIEW IF NOT EXISTS combined_record AS\n",
    "    SELECT sc.customer_id, \n",
    "            sc.invoice_id,\n",
    "            sc.country,\n",
    "            sc.\"total per invoice\" total_per_invoice,\n",
    "            il.invoice_line_id,\n",
    "            t.track_id,\n",
    "            g.genre_id,\n",
    "            g.name genre_name        \n",
    "    FROM sel_cols sc\n",
    "    INNER JOIN invoice_line il\n",
    "    ON sc.invoice_id == il.invoice_id\n",
    "    INNER JOIN track t\n",
    "    ON t.track_id == il.track_id\n",
    "    INNER JOIN genre g\n",
    "    ON g.genre_id == t.genre_id;"
   ]
  },
  {
   "cell_type": "code",
   "execution_count": 9,
   "metadata": {},
   "outputs": [
    {
     "name": "stdout",
     "output_type": "stream",
     "text": [
      " * sqlite:///chinook.db\n",
      "Done.\n"
     ]
    },
    {
     "data": {
      "text/html": [
       "<table>\n",
       "    <thead>\n",
       "        <tr>\n",
       "            <th>COUNT(*)</th>\n",
       "        </tr>\n",
       "    </thead>\n",
       "    <tbody>\n",
       "        <tr>\n",
       "            <td>4757</td>\n",
       "        </tr>\n",
       "    </tbody>\n",
       "</table>"
      ],
      "text/plain": [
       "[(4757,)]"
      ]
     },
     "execution_count": 9,
     "metadata": {},
     "output_type": "execute_result"
    }
   ],
   "source": [
    "%%sql\n",
    "SELECT COUNT(*)\n",
    "FROM combined_record;"
   ]
  },
  {
   "cell_type": "markdown",
   "metadata": {},
   "source": [
    "In order to determine the popular genres in USA, we will calculate the frequency of values for genre_name field where country is USA. This frequency table will help us to determine the three albums the chinook store should select from the given set of albums.    "
   ]
  },
  {
   "cell_type": "markdown",
   "metadata": {},
   "source": [
    "### Distribution Of Genres Sold In USA"
   ]
  },
  {
   "cell_type": "code",
   "execution_count": 10,
   "metadata": {},
   "outputs": [
    {
     "name": "stdout",
     "output_type": "stream",
     "text": [
      " * sqlite:///chinook.db\n",
      "Done.\n"
     ]
    },
    {
     "data": {
      "text/html": [
       "<table>\n",
       "    <thead>\n",
       "        <tr>\n",
       "            <th>genre_name</th>\n",
       "            <th>number_sold_in_USA</th>\n",
       "            <th>percentage_sale</th>\n",
       "        </tr>\n",
       "    </thead>\n",
       "    <tbody>\n",
       "        <tr>\n",
       "            <td>Rock</td>\n",
       "            <td>561</td>\n",
       "            <td>53.38</td>\n",
       "        </tr>\n",
       "        <tr>\n",
       "            <td>Alternative &amp; Punk</td>\n",
       "            <td>130</td>\n",
       "            <td>12.37</td>\n",
       "        </tr>\n",
       "        <tr>\n",
       "            <td>Metal</td>\n",
       "            <td>124</td>\n",
       "            <td>11.8</td>\n",
       "        </tr>\n",
       "        <tr>\n",
       "            <td>R&amp;B/Soul</td>\n",
       "            <td>53</td>\n",
       "            <td>5.04</td>\n",
       "        </tr>\n",
       "        <tr>\n",
       "            <td>Blues</td>\n",
       "            <td>36</td>\n",
       "            <td>3.43</td>\n",
       "        </tr>\n",
       "        <tr>\n",
       "            <td>Alternative</td>\n",
       "            <td>35</td>\n",
       "            <td>3.33</td>\n",
       "        </tr>\n",
       "        <tr>\n",
       "            <td>Pop</td>\n",
       "            <td>22</td>\n",
       "            <td>2.09</td>\n",
       "        </tr>\n",
       "        <tr>\n",
       "            <td>Latin</td>\n",
       "            <td>22</td>\n",
       "            <td>2.09</td>\n",
       "        </tr>\n",
       "        <tr>\n",
       "            <td>Hip Hop/Rap</td>\n",
       "            <td>20</td>\n",
       "            <td>1.9</td>\n",
       "        </tr>\n",
       "        <tr>\n",
       "            <td>Jazz</td>\n",
       "            <td>14</td>\n",
       "            <td>1.33</td>\n",
       "        </tr>\n",
       "        <tr>\n",
       "            <td>Easy Listening</td>\n",
       "            <td>13</td>\n",
       "            <td>1.24</td>\n",
       "        </tr>\n",
       "        <tr>\n",
       "            <td>Reggae</td>\n",
       "            <td>6</td>\n",
       "            <td>0.57</td>\n",
       "        </tr>\n",
       "        <tr>\n",
       "            <td>Electronica/Dance</td>\n",
       "            <td>5</td>\n",
       "            <td>0.48</td>\n",
       "        </tr>\n",
       "        <tr>\n",
       "            <td>Classical</td>\n",
       "            <td>4</td>\n",
       "            <td>0.38</td>\n",
       "        </tr>\n",
       "        <tr>\n",
       "            <td>Heavy Metal</td>\n",
       "            <td>3</td>\n",
       "            <td>0.29</td>\n",
       "        </tr>\n",
       "        <tr>\n",
       "            <td>Soundtrack</td>\n",
       "            <td>2</td>\n",
       "            <td>0.19</td>\n",
       "        </tr>\n",
       "        <tr>\n",
       "            <td>TV Shows</td>\n",
       "            <td>1</td>\n",
       "            <td>0.1</td>\n",
       "        </tr>\n",
       "    </tbody>\n",
       "</table>"
      ],
      "text/plain": [
       "[('Rock', 561, 53.38),\n",
       " ('Alternative & Punk', 130, 12.37),\n",
       " ('Metal', 124, 11.8),\n",
       " ('R&B/Soul', 53, 5.04),\n",
       " ('Blues', 36, 3.43),\n",
       " ('Alternative', 35, 3.33),\n",
       " ('Pop', 22, 2.09),\n",
       " ('Latin', 22, 2.09),\n",
       " ('Hip Hop/Rap', 20, 1.9),\n",
       " ('Jazz', 14, 1.33),\n",
       " ('Easy Listening', 13, 1.24),\n",
       " ('Reggae', 6, 0.57),\n",
       " ('Electronica/Dance', 5, 0.48),\n",
       " ('Classical', 4, 0.38),\n",
       " ('Heavy Metal', 3, 0.29),\n",
       " ('Soundtrack', 2, 0.19),\n",
       " ('TV Shows', 1, 0.1)]"
      ]
     },
     "execution_count": 10,
     "metadata": {},
     "output_type": "execute_result"
    }
   ],
   "source": [
    "%%sql\n",
    "WITH total_records AS\n",
    "                    (SELECT COUNT(*)\n",
    "                    FROM combined_record\n",
    "                    WHERE country == 'USA')\n",
    "SELECT genre_name,\n",
    "        COUNT(*) number_sold_in_USA,\n",
    "        ROUND(COUNT(*)*100/CAST((SELECT * FROM total_records) as FLOAT), 2) percentage_sale\n",
    "FROM combined_record\n",
    "WHERE country == 'USA'\n",
    "GROUP BY genre_name\n",
    "ORDER BY number_sold_in_USA DESC;"
   ]
  },
  {
   "cell_type": "markdown",
   "metadata": {},
   "source": [
    "The list of four albumns from which we have to select three is:\n",
    "\n",
    "|Artist Name|Genre|\n",
    "|---|---|\n",
    "|Regal|Hip-Hop|\n",
    "|Red Tone|Punk|\n",
    "|Meteor and the Girls|Pop|\n",
    "|Slim Jim Bites|Blues|\n",
    "\n",
    "We have already obtained the number of sale in USA for the respective genres. We will add that data to the above table.\n",
    "\n",
    "|Artist Name|Genre|Sale_in_USA|\n",
    "|---|---|---|\n",
    "|Regal|Hip-Hop|20|\n",
    "|Red Tone|Punk|130|\n",
    "|Meteor and the Girls|Pop|22|\n",
    "|Slim Jim Bites|Blues|36|"
   ]
  },
  {
   "cell_type": "markdown",
   "metadata": {},
   "source": [
    "### Conclusion: Project Goal-1\n",
    "Based on the sales of tracks in USA for each genre we will recommend chinook store to add Red Tone, Slim Jim Bites, and Meteor and the Girls to their collection.   "
   ]
  },
  {
   "cell_type": "markdown",
   "metadata": {},
   "source": [
    "## Project Goal-2\n",
    "\n",
    "Analyze performance of sales support agents based on purchases made by customers assigned to each agent. "
   ]
  },
  {
   "cell_type": "markdown",
   "metadata": {},
   "source": [
    "Here are the fields that we are interested in the relevant tables:\n",
    "- employee: employee_id (PK), last_name, first_name, title, hire_date\n",
    "- customer: customer_id (PK), support_rep_id (FK) references employee/employee_id\n",
    "- invoice: invoice_id(PK), customer_id (FK), total"
   ]
  },
  {
   "cell_type": "markdown",
   "metadata": {},
   "source": [
    "### Overview Of Employee Table"
   ]
  },
  {
   "cell_type": "code",
   "execution_count": 11,
   "metadata": {},
   "outputs": [
    {
     "name": "stdout",
     "output_type": "stream",
     "text": [
      " * sqlite:///chinook.db\n",
      "Done.\n"
     ]
    },
    {
     "data": {
      "text/html": [
       "<table>\n",
       "    <thead>\n",
       "        <tr>\n",
       "            <th>employee_id</th>\n",
       "            <th>last_name</th>\n",
       "            <th>first_name</th>\n",
       "            <th>title</th>\n",
       "            <th>reports_to</th>\n",
       "            <th>birthdate</th>\n",
       "            <th>hire_date</th>\n",
       "            <th>address</th>\n",
       "            <th>city</th>\n",
       "            <th>state</th>\n",
       "            <th>country</th>\n",
       "            <th>postal_code</th>\n",
       "            <th>phone</th>\n",
       "            <th>fax</th>\n",
       "            <th>email</th>\n",
       "        </tr>\n",
       "    </thead>\n",
       "    <tbody>\n",
       "        <tr>\n",
       "            <td>1</td>\n",
       "            <td>Adams</td>\n",
       "            <td>Andrew</td>\n",
       "            <td>General Manager</td>\n",
       "            <td>None</td>\n",
       "            <td>1962-02-18 00:00:00</td>\n",
       "            <td>2016-08-14 00:00:00</td>\n",
       "            <td>11120 Jasper Ave NW</td>\n",
       "            <td>Edmonton</td>\n",
       "            <td>AB</td>\n",
       "            <td>Canada</td>\n",
       "            <td>T5K 2N1</td>\n",
       "            <td>+1 (780) 428-9482</td>\n",
       "            <td>+1 (780) 428-3457</td>\n",
       "            <td>andrew@chinookcorp.com</td>\n",
       "        </tr>\n",
       "        <tr>\n",
       "            <td>2</td>\n",
       "            <td>Edwards</td>\n",
       "            <td>Nancy</td>\n",
       "            <td>Sales Manager</td>\n",
       "            <td>1</td>\n",
       "            <td>1958-12-08 00:00:00</td>\n",
       "            <td>2016-05-01 00:00:00</td>\n",
       "            <td>825 8 Ave SW</td>\n",
       "            <td>Calgary</td>\n",
       "            <td>AB</td>\n",
       "            <td>Canada</td>\n",
       "            <td>T2P 2T3</td>\n",
       "            <td>+1 (403) 262-3443</td>\n",
       "            <td>+1 (403) 262-3322</td>\n",
       "            <td>nancy@chinookcorp.com</td>\n",
       "        </tr>\n",
       "        <tr>\n",
       "            <td>3</td>\n",
       "            <td>Peacock</td>\n",
       "            <td>Jane</td>\n",
       "            <td>Sales Support Agent</td>\n",
       "            <td>2</td>\n",
       "            <td>1973-08-29 00:00:00</td>\n",
       "            <td>2017-04-01 00:00:00</td>\n",
       "            <td>1111 6 Ave SW</td>\n",
       "            <td>Calgary</td>\n",
       "            <td>AB</td>\n",
       "            <td>Canada</td>\n",
       "            <td>T2P 5M5</td>\n",
       "            <td>+1 (403) 262-3443</td>\n",
       "            <td>+1 (403) 262-6712</td>\n",
       "            <td>jane@chinookcorp.com</td>\n",
       "        </tr>\n",
       "        <tr>\n",
       "            <td>4</td>\n",
       "            <td>Park</td>\n",
       "            <td>Margaret</td>\n",
       "            <td>Sales Support Agent</td>\n",
       "            <td>2</td>\n",
       "            <td>1947-09-19 00:00:00</td>\n",
       "            <td>2017-05-03 00:00:00</td>\n",
       "            <td>683 10 Street SW</td>\n",
       "            <td>Calgary</td>\n",
       "            <td>AB</td>\n",
       "            <td>Canada</td>\n",
       "            <td>T2P 5G3</td>\n",
       "            <td>+1 (403) 263-4423</td>\n",
       "            <td>+1 (403) 263-4289</td>\n",
       "            <td>margaret@chinookcorp.com</td>\n",
       "        </tr>\n",
       "        <tr>\n",
       "            <td>5</td>\n",
       "            <td>Johnson</td>\n",
       "            <td>Steve</td>\n",
       "            <td>Sales Support Agent</td>\n",
       "            <td>2</td>\n",
       "            <td>1965-03-03 00:00:00</td>\n",
       "            <td>2017-10-17 00:00:00</td>\n",
       "            <td>7727B 41 Ave</td>\n",
       "            <td>Calgary</td>\n",
       "            <td>AB</td>\n",
       "            <td>Canada</td>\n",
       "            <td>T3B 1Y7</td>\n",
       "            <td>1 (780) 836-9987</td>\n",
       "            <td>1 (780) 836-9543</td>\n",
       "            <td>steve@chinookcorp.com</td>\n",
       "        </tr>\n",
       "    </tbody>\n",
       "</table>"
      ],
      "text/plain": [
       "[(1, 'Adams', 'Andrew', 'General Manager', None, '1962-02-18 00:00:00', '2016-08-14 00:00:00', '11120 Jasper Ave NW', 'Edmonton', 'AB', 'Canada', 'T5K 2N1', '+1 (780) 428-9482', '+1 (780) 428-3457', 'andrew@chinookcorp.com'),\n",
       " (2, 'Edwards', 'Nancy', 'Sales Manager', 1, '1958-12-08 00:00:00', '2016-05-01 00:00:00', '825 8 Ave SW', 'Calgary', 'AB', 'Canada', 'T2P 2T3', '+1 (403) 262-3443', '+1 (403) 262-3322', 'nancy@chinookcorp.com'),\n",
       " (3, 'Peacock', 'Jane', 'Sales Support Agent', 2, '1973-08-29 00:00:00', '2017-04-01 00:00:00', '1111 6 Ave SW', 'Calgary', 'AB', 'Canada', 'T2P 5M5', '+1 (403) 262-3443', '+1 (403) 262-6712', 'jane@chinookcorp.com'),\n",
       " (4, 'Park', 'Margaret', 'Sales Support Agent', 2, '1947-09-19 00:00:00', '2017-05-03 00:00:00', '683 10 Street SW', 'Calgary', 'AB', 'Canada', 'T2P 5G3', '+1 (403) 263-4423', '+1 (403) 263-4289', 'margaret@chinookcorp.com'),\n",
       " (5, 'Johnson', 'Steve', 'Sales Support Agent', 2, '1965-03-03 00:00:00', '2017-10-17 00:00:00', '7727B 41 Ave', 'Calgary', 'AB', 'Canada', 'T3B 1Y7', '1 (780) 836-9987', '1 (780) 836-9543', 'steve@chinookcorp.com')]"
      ]
     },
     "execution_count": 11,
     "metadata": {},
     "output_type": "execute_result"
    }
   ],
   "source": [
    "%%sql \n",
    "SELECT *\n",
    "FROM employee\n",
    "LIMIT 5;"
   ]
  },
  {
   "cell_type": "markdown",
   "metadata": {},
   "source": [
    "We are interested in records of Sales Support Agent only. Some Sales Support Agent might not have been assigned any customers yet. In that case the table from the LEFT JOIN of employee (only Sales Support Agent) and customer will have different number of records than the INNER JOIN. We will check this case now.  "
   ]
  },
  {
   "cell_type": "markdown",
   "metadata": {},
   "source": [
    "### Combine Employee and Customer Tables"
   ]
  },
  {
   "cell_type": "markdown",
   "metadata": {},
   "source": [
    "Checking if any employee has not been assigned any customer. "
   ]
  },
  {
   "cell_type": "code",
   "execution_count": 12,
   "metadata": {},
   "outputs": [
    {
     "name": "stdout",
     "output_type": "stream",
     "text": [
      " * sqlite:///chinook.db\n",
      "Done.\n"
     ]
    },
    {
     "data": {
      "text/html": [
       "<table>\n",
       "    <thead>\n",
       "        <tr>\n",
       "            <th>COUNT(*)</th>\n",
       "        </tr>\n",
       "    </thead>\n",
       "    <tbody>\n",
       "        <tr>\n",
       "            <td>59</td>\n",
       "        </tr>\n",
       "    </tbody>\n",
       "</table>"
      ],
      "text/plain": [
       "[(59,)]"
      ]
     },
     "execution_count": 12,
     "metadata": {},
     "output_type": "execute_result"
    }
   ],
   "source": [
    "%%sql\n",
    "SELECT COUNT(*)\n",
    "FROM employee e\n",
    "LEFT JOIN customer c\n",
    "ON e.employee_id == c.support_rep_id\n",
    "WHERE e.title == 'Sales Support Agent';"
   ]
  },
  {
   "cell_type": "code",
   "execution_count": 13,
   "metadata": {},
   "outputs": [
    {
     "name": "stdout",
     "output_type": "stream",
     "text": [
      " * sqlite:///chinook.db\n",
      "Done.\n"
     ]
    },
    {
     "data": {
      "text/html": [
       "<table>\n",
       "    <thead>\n",
       "        <tr>\n",
       "            <th>COUNT(*)</th>\n",
       "        </tr>\n",
       "    </thead>\n",
       "    <tbody>\n",
       "        <tr>\n",
       "            <td>59</td>\n",
       "        </tr>\n",
       "    </tbody>\n",
       "</table>"
      ],
      "text/plain": [
       "[(59,)]"
      ]
     },
     "execution_count": 13,
     "metadata": {},
     "output_type": "execute_result"
    }
   ],
   "source": [
    "%%sql\n",
    "SELECT COUNT(*)\n",
    "FROM employee e\n",
    "INNER JOIN customer c\n",
    "ON e.employee_id == c.support_rep_id\n",
    "WHERE e.title == 'Sales Support Agent';"
   ]
  },
  {
   "cell_type": "markdown",
   "metadata": {},
   "source": [
    "The number of records for INNER JOIN matches the LEFT JOIN this shows that all the Sales Support Agents have at least one customer. So we can use either to combine employee and customer tables. We have chosen LEFT JOIN for this study."
   ]
  },
  {
   "cell_type": "markdown",
   "metadata": {},
   "source": [
    "### Combine Employee, Customer And Invoice Tables"
   ]
  },
  {
   "cell_type": "markdown",
   "metadata": {},
   "source": [
    "We will determine the performance of a sales support agent from the total amount in sales. For this we will combine the tables employee, customer and invoice. Then sum the total field of invoice table for each sales support agent. "
   ]
  },
  {
   "cell_type": "markdown",
   "metadata": {},
   "source": [
    "Now the question arises whether we should use INNER JOIN to combine the invoice table or LEFT JOIN. We will check this by comparing the numbers of records for each of the JOINS, as we did earlier. The numbers of records will be different if any customer does not have any invoice. "
   ]
  },
  {
   "cell_type": "code",
   "execution_count": 14,
   "metadata": {},
   "outputs": [
    {
     "name": "stdout",
     "output_type": "stream",
     "text": [
      " * sqlite:///chinook.db\n",
      "Done.\n"
     ]
    },
    {
     "data": {
      "text/html": [
       "<table>\n",
       "    <thead>\n",
       "        <tr>\n",
       "            <th>COUNT(*)</th>\n",
       "        </tr>\n",
       "    </thead>\n",
       "    <tbody>\n",
       "        <tr>\n",
       "            <td>614</td>\n",
       "        </tr>\n",
       "    </tbody>\n",
       "</table>"
      ],
      "text/plain": [
       "[(614,)]"
      ]
     },
     "execution_count": 14,
     "metadata": {},
     "output_type": "execute_result"
    }
   ],
   "source": [
    "%%sql\n",
    "SELECT COUNT(*)\n",
    "FROM employee e\n",
    "INNER JOIN customer c\n",
    "ON e.employee_id == c.support_rep_id\n",
    "LEFT JOIN invoice i\n",
    "ON c.customer_id == i.customer_id\n",
    "WHERE e.title == 'Sales Support Agent';"
   ]
  },
  {
   "cell_type": "code",
   "execution_count": 15,
   "metadata": {},
   "outputs": [
    {
     "name": "stdout",
     "output_type": "stream",
     "text": [
      " * sqlite:///chinook.db\n",
      "Done.\n"
     ]
    },
    {
     "data": {
      "text/html": [
       "<table>\n",
       "    <thead>\n",
       "        <tr>\n",
       "            <th>COUNT(*)</th>\n",
       "        </tr>\n",
       "    </thead>\n",
       "    <tbody>\n",
       "        <tr>\n",
       "            <td>614</td>\n",
       "        </tr>\n",
       "    </tbody>\n",
       "</table>"
      ],
      "text/plain": [
       "[(614,)]"
      ]
     },
     "execution_count": 15,
     "metadata": {},
     "output_type": "execute_result"
    }
   ],
   "source": [
    "%%sql\n",
    "SELECT COUNT(*)\n",
    "FROM employee e\n",
    "INNER JOIN customer c\n",
    "ON e.employee_id == c.support_rep_id\n",
    "INNER JOIN invoice i\n",
    "ON c.customer_id == i.customer_id\n",
    "WHERE e.title == 'Sales Support Agent';"
   ]
  },
  {
   "cell_type": "markdown",
   "metadata": {},
   "source": [
    "As seen above the numbers of records, 614 are the same indicating all customers have atleast one invoice associated with them. We will use LEFT JOIN to combine the invoice table. A VIEW is created for the combined table, sales_rep_customer_details."
   ]
  },
  {
   "cell_type": "code",
   "execution_count": 16,
   "metadata": {},
   "outputs": [
    {
     "name": "stdout",
     "output_type": "stream",
     "text": [
      " * sqlite:///chinook.db\n",
      "Done.\n",
      "Done.\n"
     ]
    },
    {
     "data": {
      "text/plain": [
       "[]"
      ]
     },
     "execution_count": 16,
     "metadata": {},
     "output_type": "execute_result"
    }
   ],
   "source": [
    "%%sql\n",
    "DROP VIEW IF EXISTS sales_rep_customer_details;\n",
    "CREATE VIEW IF NOT EXISTS sales_rep_customer_details AS\n",
    "    SELECT e.employee_id,\n",
    "            e.first_name||' '||e.last_name \"sales_rep_name\",\n",
    "            e.hire_date,\n",
    "            c.customer_id,\n",
    "            i.invoice_id,\n",
    "            i.total total_per_invoice\n",
    "    FROM employee e\n",
    "    INNER JOIN customer c\n",
    "    ON e.employee_id == c.support_rep_id\n",
    "    INNER JOIN invoice i\n",
    "    ON c.customer_id == i.customer_id\n",
    "    WHERE e.title == 'Sales Support Agent';"
   ]
  },
  {
   "cell_type": "code",
   "execution_count": 17,
   "metadata": {},
   "outputs": [
    {
     "name": "stdout",
     "output_type": "stream",
     "text": [
      " * sqlite:///chinook.db\n",
      "Done.\n"
     ]
    },
    {
     "data": {
      "text/html": [
       "<table>\n",
       "    <thead>\n",
       "        <tr>\n",
       "            <th>COUNT(*)</th>\n",
       "        </tr>\n",
       "    </thead>\n",
       "    <tbody>\n",
       "        <tr>\n",
       "            <td>614</td>\n",
       "        </tr>\n",
       "    </tbody>\n",
       "</table>"
      ],
      "text/plain": [
       "[(614,)]"
      ]
     },
     "execution_count": 17,
     "metadata": {},
     "output_type": "execute_result"
    }
   ],
   "source": [
    "%%sql\n",
    "SELECT COUNT(*)\n",
    "FROM sales_rep_customer_details;"
   ]
  },
  {
   "cell_type": "markdown",
   "metadata": {},
   "source": [
    "### Performance Of Sales Support Agents"
   ]
  },
  {
   "cell_type": "code",
   "execution_count": 18,
   "metadata": {},
   "outputs": [
    {
     "name": "stdout",
     "output_type": "stream",
     "text": [
      " * sqlite:///chinook.db\n",
      "Done.\n"
     ]
    },
    {
     "data": {
      "text/html": [
       "<table>\n",
       "    <thead>\n",
       "        <tr>\n",
       "            <th>employee_id</th>\n",
       "            <th>sales_rep_name</th>\n",
       "            <th>total_sales</th>\n",
       "        </tr>\n",
       "    </thead>\n",
       "    <tbody>\n",
       "        <tr>\n",
       "            <td>3</td>\n",
       "            <td>Jane Peacock</td>\n",
       "            <td>1731.51</td>\n",
       "        </tr>\n",
       "        <tr>\n",
       "            <td>4</td>\n",
       "            <td>Margaret Park</td>\n",
       "            <td>1584.0</td>\n",
       "        </tr>\n",
       "        <tr>\n",
       "            <td>5</td>\n",
       "            <td>Steve Johnson</td>\n",
       "            <td>1393.92</td>\n",
       "        </tr>\n",
       "    </tbody>\n",
       "</table>"
      ],
      "text/plain": [
       "[(3, 'Jane Peacock', 1731.51),\n",
       " (4, 'Margaret Park', 1584.0),\n",
       " (5, 'Steve Johnson', 1393.92)]"
      ]
     },
     "execution_count": 18,
     "metadata": {},
     "output_type": "execute_result"
    }
   ],
   "source": [
    "%%sql\n",
    "SELECT employee_id,\n",
    "        sales_rep_name,\n",
    "        ROUND(SUM(total_per_invoice), 2) total_sales\n",
    "FROM sales_rep_customer_details\n",
    "GROUP BY employee_id\n",
    "ORDER BY total_sales DESC;"
   ]
  },
  {
   "cell_type": "markdown",
   "metadata": {},
   "source": [
    "In order to make plots we will use pandas library to convert the result of the SQL query into dataframe. But for that we will have to create a connection object to the chinook.db using the connect function in sqlite3 library."
   ]
  },
  {
   "cell_type": "code",
   "execution_count": 19,
   "metadata": {},
   "outputs": [
    {
     "name": "stdout",
     "output_type": "stream",
     "text": [
      "   employee_id sales_rep_name  total_sales\n",
      "0            3   Jane Peacock      1731.51\n",
      "1            4  Margaret Park      1584.00\n",
      "2            5  Steve Johnson      1393.92\n"
     ]
    },
    {
     "data": {
      "text/plain": [
       "<AxesSubplot:xlabel='Sales Representative', ylabel='Total Sales ($)'>"
      ]
     },
     "execution_count": 19,
     "metadata": {},
     "output_type": "execute_result"
    },
    {
     "data": {
      "image/png": "[encoded data removed]",
      "text/plain": [
       "<Figure size 432x288 with 1 Axes>"
      ]
     },
     "metadata": {
      "needs_background": "light"
     },
     "output_type": "display_data"
    }
   ],
   "source": [
    "with sqlite3.connect('chinook.db') as conn:\n",
    "    q = '''\n",
    "    SELECT employee_id,\n",
    "            sales_rep_name,\n",
    "            ROUND(SUM(total_per_invoice), 2) total_sales\n",
    "    FROM sales_rep_customer_details\n",
    "    GROUP BY employee_id\n",
    "    ORDER BY total_sales DESC;\n",
    "    '''\n",
    "    sales_rep_performance_data = pd.read_sql(q, conn)\n",
    "    \n",
    "print(sales_rep_performance_data)\n",
    "sales_rep_performance_data.plot(kind='bar', y='total_sales', x='sales_rep_name', ylabel='Total Sales ($)', xlabel='Sales Representative',\n",
    "                                      edgecolor='black', linewidth=2, color='grey', legend=False, rot=0)"
   ]
  },
  {
   "cell_type": "markdown",
   "metadata": {},
   "source": [
    "Our data shows that Jane Peacock has the highest amount of sale among the sale support agents. However the differences in sales from others is between \\\\$200 and \\\\$400. We will check the hiring date of all sale support agents to find if they started working at the chinook store at simillar time. We can claim that Jane Peacock is the best performer only if all of them were hired at simillar time by chinook store.    "
   ]
  },
  {
   "cell_type": "code",
   "execution_count": 20,
   "metadata": {},
   "outputs": [
    {
     "name": "stdout",
     "output_type": "stream",
     "text": [
      "<class 'sqlite3.Connection'>\n",
      "   employee_id sales_rep_name  total_sales            hire_date\n",
      "0            3   Jane Peacock      1731.51  2017-04-01 00:00:00\n",
      "1            4  Margaret Park      1584.00  2017-05-03 00:00:00\n",
      "2            5  Steve Johnson      1393.92  2017-10-17 00:00:00\n"
     ]
    },
    {
     "data": {
      "text/plain": [
       "<AxesSubplot:xlabel='Sales Representative', ylabel='Total Sales ($)'>"
      ]
     },
     "execution_count": 20,
     "metadata": {},
     "output_type": "execute_result"
    },
    {
     "data": {
      "image/png": "[encoded data removed]",
      "text/plain": [
       "<Figure size 432x288 with 1 Axes>"
      ]
     },
     "metadata": {
      "needs_background": "light"
     },
     "output_type": "display_data"
    }
   ],
   "source": [
    "with sqlite3.connect('chinook.db') as conn:\n",
    "    print(type(conn))\n",
    "    q = '''\n",
    "    SELECT employee_id,\n",
    "            sales_rep_name,\n",
    "            ROUND(SUM(total_per_invoice), 2) total_sales,\n",
    "            hire_date            \n",
    "    FROM sales_rep_customer_details\n",
    "    GROUP BY employee_id\n",
    "    ORDER BY total_sales DESC;\n",
    "    '''\n",
    "    sales_rep_performance_data = pd.read_sql(q, conn)\n",
    "    \n",
    "print(sales_rep_performance_data)\n",
    "sales_rep_performance_data.plot(kind='bar', y='total_sales', x='sales_rep_name', ylabel='Total Sales ($)', xlabel='Sales Representative',\n",
    "                                      edgecolor='black', linewidth=2, color='grey', legend=False, rot=0)"
   ]
  },
  {
   "cell_type": "markdown",
   "metadata": {},
   "source": [
    "### Conclusion: Project Goal-2\n",
    "The above table shows that Jane Peacock started almost a month earlier than Margaret Park, and 6 months earlier than Steve Johnson. The higher amount of sales by Jane Peacock could be because he started working earlier in the store, and this means that all the sales support agents are good performers. "
   ]
  },
  {
   "cell_type": "markdown",
   "metadata": {},
   "source": [
    "## Project Goal-3\n",
    "Compare the performance of each country by collecting total number of customers, total value of sales, average value of sales per customer, and average order value. The countries with only one customer was relabelled as Other. "
   ]
  },
  {
   "cell_type": "markdown",
   "metadata": {},
   "source": [
    "### Collate Data On Purchases From Different Countries"
   ]
  },
  {
   "cell_type": "code",
   "execution_count": 21,
   "metadata": {},
   "outputs": [
    {
     "name": "stdout",
     "output_type": "stream",
     "text": [
      " * sqlite:///chinook.db\n",
      "Done.\n",
      "Done.\n"
     ]
    },
    {
     "data": {
      "text/plain": [
       "[]"
      ]
     },
     "execution_count": 21,
     "metadata": {},
     "output_type": "execute_result"
    }
   ],
   "source": [
    "%%sql\n",
    "DROP VIEW IF EXISTS country_purchase_data;\n",
    "CREATE VIEW IF NOT EXISTS country_purchase_data AS\n",
    "    WITH \n",
    "        number_cust_per_country AS\n",
    "            (\n",
    "            SELECT country,\n",
    "                 COUNT(customer_id) num_cust\n",
    "            FROM customer\n",
    "            GROUP BY country\n",
    "            ),\n",
    "        number_orders_total_value_per_country AS\n",
    "            (\n",
    "            SELECT country,\n",
    "                COUNT(invoice_id) num_orders,\n",
    "                SUM(\"total per invoice\") total_value\n",
    "            FROM sel_cols\n",
    "            GROUP BY country     \n",
    "            )\n",
    "\n",
    "    SELECT nc.country,\n",
    "            nc.num_cust total_number_of_customers,\n",
    "            notv.num_orders total_number_of_orders,\n",
    "            notv.total_value total_value_of_sales\n",
    "    FROM number_cust_per_country nc\n",
    "    INNER JOIN number_orders_total_value_per_country notv\n",
    "    ON nc.country == notv.country;\n",
    "  "
   ]
  },
  {
   "cell_type": "markdown",
   "metadata": {},
   "source": [
    "Overview Of VIEW country_purchase_data"
   ]
  },
  {
   "cell_type": "code",
   "execution_count": 22,
   "metadata": {},
   "outputs": [
    {
     "name": "stdout",
     "output_type": "stream",
     "text": [
      " * sqlite:///chinook.db\n",
      "Done.\n"
     ]
    },
    {
     "data": {
      "text/html": [
       "<table>\n",
       "    <thead>\n",
       "        <tr>\n",
       "            <th>country</th>\n",
       "            <th>total_number_of_customers</th>\n",
       "            <th>total_number_of_orders</th>\n",
       "            <th>total_value_of_sales</th>\n",
       "        </tr>\n",
       "    </thead>\n",
       "    <tbody>\n",
       "        <tr>\n",
       "            <td>Argentina</td>\n",
       "            <td>1</td>\n",
       "            <td>5</td>\n",
       "            <td>39.6</td>\n",
       "        </tr>\n",
       "        <tr>\n",
       "            <td>Australia</td>\n",
       "            <td>1</td>\n",
       "            <td>10</td>\n",
       "            <td>81.18</td>\n",
       "        </tr>\n",
       "        <tr>\n",
       "            <td>Austria</td>\n",
       "            <td>1</td>\n",
       "            <td>9</td>\n",
       "            <td>69.3</td>\n",
       "        </tr>\n",
       "        <tr>\n",
       "            <td>Belgium</td>\n",
       "            <td>1</td>\n",
       "            <td>7</td>\n",
       "            <td>60.38999999999999</td>\n",
       "        </tr>\n",
       "        <tr>\n",
       "            <td>Brazil</td>\n",
       "            <td>5</td>\n",
       "            <td>61</td>\n",
       "            <td>427.68000000000006</td>\n",
       "        </tr>\n",
       "        <tr>\n",
       "            <td>Canada</td>\n",
       "            <td>8</td>\n",
       "            <td>76</td>\n",
       "            <td>535.5900000000001</td>\n",
       "        </tr>\n",
       "        <tr>\n",
       "            <td>Chile</td>\n",
       "            <td>1</td>\n",
       "            <td>13</td>\n",
       "            <td>97.02000000000001</td>\n",
       "        </tr>\n",
       "        <tr>\n",
       "            <td>Czech Republic</td>\n",
       "            <td>2</td>\n",
       "            <td>30</td>\n",
       "            <td>273.24000000000007</td>\n",
       "        </tr>\n",
       "        <tr>\n",
       "            <td>Denmark</td>\n",
       "            <td>1</td>\n",
       "            <td>10</td>\n",
       "            <td>37.61999999999999</td>\n",
       "        </tr>\n",
       "        <tr>\n",
       "            <td>Finland</td>\n",
       "            <td>1</td>\n",
       "            <td>11</td>\n",
       "            <td>79.2</td>\n",
       "        </tr>\n",
       "        <tr>\n",
       "            <td>France</td>\n",
       "            <td>5</td>\n",
       "            <td>50</td>\n",
       "            <td>389.0699999999999</td>\n",
       "        </tr>\n",
       "        <tr>\n",
       "            <td>Germany</td>\n",
       "            <td>4</td>\n",
       "            <td>41</td>\n",
       "            <td>334.62</td>\n",
       "        </tr>\n",
       "        <tr>\n",
       "            <td>Hungary</td>\n",
       "            <td>1</td>\n",
       "            <td>10</td>\n",
       "            <td>78.21</td>\n",
       "        </tr>\n",
       "        <tr>\n",
       "            <td>India</td>\n",
       "            <td>2</td>\n",
       "            <td>21</td>\n",
       "            <td>183.14999999999998</td>\n",
       "        </tr>\n",
       "        <tr>\n",
       "            <td>Ireland</td>\n",
       "            <td>1</td>\n",
       "            <td>13</td>\n",
       "            <td>114.83999999999997</td>\n",
       "        </tr>\n",
       "        <tr>\n",
       "            <td>Italy</td>\n",
       "            <td>1</td>\n",
       "            <td>9</td>\n",
       "            <td>50.49</td>\n",
       "        </tr>\n",
       "        <tr>\n",
       "            <td>Netherlands</td>\n",
       "            <td>1</td>\n",
       "            <td>10</td>\n",
       "            <td>65.34</td>\n",
       "        </tr>\n",
       "        <tr>\n",
       "            <td>Norway</td>\n",
       "            <td>1</td>\n",
       "            <td>9</td>\n",
       "            <td>72.27000000000001</td>\n",
       "        </tr>\n",
       "        <tr>\n",
       "            <td>Poland</td>\n",
       "            <td>1</td>\n",
       "            <td>10</td>\n",
       "            <td>76.22999999999999</td>\n",
       "        </tr>\n",
       "        <tr>\n",
       "            <td>Portugal</td>\n",
       "            <td>2</td>\n",
       "            <td>29</td>\n",
       "            <td>185.13000000000002</td>\n",
       "        </tr>\n",
       "        <tr>\n",
       "            <td>Spain</td>\n",
       "            <td>1</td>\n",
       "            <td>11</td>\n",
       "            <td>98.01</td>\n",
       "        </tr>\n",
       "        <tr>\n",
       "            <td>Sweden</td>\n",
       "            <td>1</td>\n",
       "            <td>10</td>\n",
       "            <td>75.24</td>\n",
       "        </tr>\n",
       "        <tr>\n",
       "            <td>USA</td>\n",
       "            <td>13</td>\n",
       "            <td>131</td>\n",
       "            <td>1040.4899999999998</td>\n",
       "        </tr>\n",
       "        <tr>\n",
       "            <td>United Kingdom</td>\n",
       "            <td>3</td>\n",
       "            <td>28</td>\n",
       "            <td>245.52</td>\n",
       "        </tr>\n",
       "    </tbody>\n",
       "</table>"
      ],
      "text/plain": [
       "[('Argentina', 1, 5, 39.6),\n",
       " ('Australia', 1, 10, 81.18),\n",
       " ('Austria', 1, 9, 69.3),\n",
       " ('Belgium', 1, 7, 60.38999999999999),\n",
       " ('Brazil', 5, 61, 427.68000000000006),\n",
       " ('Canada', 8, 76, 535.5900000000001),\n",
       " ('Chile', 1, 13, 97.02000000000001),\n",
       " ('Czech Republic', 2, 30, 273.24000000000007),\n",
       " ('Denmark', 1, 10, 37.61999999999999),\n",
       " ('Finland', 1, 11, 79.2),\n",
       " ('France', 5, 50, 389.0699999999999),\n",
       " ('Germany', 4, 41, 334.62),\n",
       " ('Hungary', 1, 10, 78.21),\n",
       " ('India', 2, 21, 183.14999999999998),\n",
       " ('Ireland', 1, 13, 114.83999999999997),\n",
       " ('Italy', 1, 9, 50.49),\n",
       " ('Netherlands', 1, 10, 65.34),\n",
       " ('Norway', 1, 9, 72.27000000000001),\n",
       " ('Poland', 1, 10, 76.22999999999999),\n",
       " ('Portugal', 2, 29, 185.13000000000002),\n",
       " ('Spain', 1, 11, 98.01),\n",
       " ('Sweden', 1, 10, 75.24),\n",
       " ('USA', 13, 131, 1040.4899999999998),\n",
       " ('United Kingdom', 3, 28, 245.52)]"
      ]
     },
     "execution_count": 22,
     "metadata": {},
     "output_type": "execute_result"
    }
   ],
   "source": [
    "%%sql\n",
    "SELECT *\n",
    "FROM country_purchase_data; "
   ]
  },
  {
   "cell_type": "markdown",
   "metadata": {},
   "source": [
    "Now we will group the countries with total_number_of_customers as 1 in Other, and display the table such that the record for other country always appears at the end of the table."
   ]
  },
  {
   "cell_type": "code",
   "execution_count": 23,
   "metadata": {},
   "outputs": [
    {
     "name": "stdout",
     "output_type": "stream",
     "text": [
      " * sqlite:///chinook.db\n",
      "Done.\n"
     ]
    },
    {
     "data": {
      "text/html": [
       "<table>\n",
       "    <thead>\n",
       "        <tr>\n",
       "            <th>country</th>\n",
       "            <th>total_number_of_customers</th>\n",
       "            <th>total_number_of_orders</th>\n",
       "            <th>total_value_of_sales</th>\n",
       "            <th>country_relabelled</th>\n",
       "        </tr>\n",
       "    </thead>\n",
       "    <tbody>\n",
       "        <tr>\n",
       "            <td>Argentina</td>\n",
       "            <td>1</td>\n",
       "            <td>5</td>\n",
       "            <td>39.6</td>\n",
       "            <td>Other</td>\n",
       "        </tr>\n",
       "        <tr>\n",
       "            <td>Australia</td>\n",
       "            <td>1</td>\n",
       "            <td>10</td>\n",
       "            <td>81.18</td>\n",
       "            <td>Other</td>\n",
       "        </tr>\n",
       "        <tr>\n",
       "            <td>Austria</td>\n",
       "            <td>1</td>\n",
       "            <td>9</td>\n",
       "            <td>69.3</td>\n",
       "            <td>Other</td>\n",
       "        </tr>\n",
       "        <tr>\n",
       "            <td>Belgium</td>\n",
       "            <td>1</td>\n",
       "            <td>7</td>\n",
       "            <td>60.38999999999999</td>\n",
       "            <td>Other</td>\n",
       "        </tr>\n",
       "        <tr>\n",
       "            <td>Brazil</td>\n",
       "            <td>5</td>\n",
       "            <td>61</td>\n",
       "            <td>427.68000000000006</td>\n",
       "            <td>Brazil</td>\n",
       "        </tr>\n",
       "        <tr>\n",
       "            <td>Canada</td>\n",
       "            <td>8</td>\n",
       "            <td>76</td>\n",
       "            <td>535.5900000000001</td>\n",
       "            <td>Canada</td>\n",
       "        </tr>\n",
       "        <tr>\n",
       "            <td>Chile</td>\n",
       "            <td>1</td>\n",
       "            <td>13</td>\n",
       "            <td>97.02000000000001</td>\n",
       "            <td>Other</td>\n",
       "        </tr>\n",
       "        <tr>\n",
       "            <td>Czech Republic</td>\n",
       "            <td>2</td>\n",
       "            <td>30</td>\n",
       "            <td>273.24000000000007</td>\n",
       "            <td>Czech Republic</td>\n",
       "        </tr>\n",
       "        <tr>\n",
       "            <td>Denmark</td>\n",
       "            <td>1</td>\n",
       "            <td>10</td>\n",
       "            <td>37.61999999999999</td>\n",
       "            <td>Other</td>\n",
       "        </tr>\n",
       "        <tr>\n",
       "            <td>Finland</td>\n",
       "            <td>1</td>\n",
       "            <td>11</td>\n",
       "            <td>79.2</td>\n",
       "            <td>Other</td>\n",
       "        </tr>\n",
       "        <tr>\n",
       "            <td>France</td>\n",
       "            <td>5</td>\n",
       "            <td>50</td>\n",
       "            <td>389.0699999999999</td>\n",
       "            <td>France</td>\n",
       "        </tr>\n",
       "        <tr>\n",
       "            <td>Germany</td>\n",
       "            <td>4</td>\n",
       "            <td>41</td>\n",
       "            <td>334.62</td>\n",
       "            <td>Germany</td>\n",
       "        </tr>\n",
       "        <tr>\n",
       "            <td>Hungary</td>\n",
       "            <td>1</td>\n",
       "            <td>10</td>\n",
       "            <td>78.21</td>\n",
       "            <td>Other</td>\n",
       "        </tr>\n",
       "        <tr>\n",
       "            <td>India</td>\n",
       "            <td>2</td>\n",
       "            <td>21</td>\n",
       "            <td>183.14999999999998</td>\n",
       "            <td>India</td>\n",
       "        </tr>\n",
       "        <tr>\n",
       "            <td>Ireland</td>\n",
       "            <td>1</td>\n",
       "            <td>13</td>\n",
       "            <td>114.83999999999997</td>\n",
       "            <td>Other</td>\n",
       "        </tr>\n",
       "        <tr>\n",
       "            <td>Italy</td>\n",
       "            <td>1</td>\n",
       "            <td>9</td>\n",
       "            <td>50.49</td>\n",
       "            <td>Other</td>\n",
       "        </tr>\n",
       "        <tr>\n",
       "            <td>Netherlands</td>\n",
       "            <td>1</td>\n",
       "            <td>10</td>\n",
       "            <td>65.34</td>\n",
       "            <td>Other</td>\n",
       "        </tr>\n",
       "        <tr>\n",
       "            <td>Norway</td>\n",
       "            <td>1</td>\n",
       "            <td>9</td>\n",
       "            <td>72.27000000000001</td>\n",
       "            <td>Other</td>\n",
       "        </tr>\n",
       "        <tr>\n",
       "            <td>Poland</td>\n",
       "            <td>1</td>\n",
       "            <td>10</td>\n",
       "            <td>76.22999999999999</td>\n",
       "            <td>Other</td>\n",
       "        </tr>\n",
       "        <tr>\n",
       "            <td>Portugal</td>\n",
       "            <td>2</td>\n",
       "            <td>29</td>\n",
       "            <td>185.13000000000002</td>\n",
       "            <td>Portugal</td>\n",
       "        </tr>\n",
       "        <tr>\n",
       "            <td>Spain</td>\n",
       "            <td>1</td>\n",
       "            <td>11</td>\n",
       "            <td>98.01</td>\n",
       "            <td>Other</td>\n",
       "        </tr>\n",
       "        <tr>\n",
       "            <td>Sweden</td>\n",
       "            <td>1</td>\n",
       "            <td>10</td>\n",
       "            <td>75.24</td>\n",
       "            <td>Other</td>\n",
       "        </tr>\n",
       "        <tr>\n",
       "            <td>USA</td>\n",
       "            <td>13</td>\n",
       "            <td>131</td>\n",
       "            <td>1040.4899999999998</td>\n",
       "            <td>USA</td>\n",
       "        </tr>\n",
       "        <tr>\n",
       "            <td>United Kingdom</td>\n",
       "            <td>3</td>\n",
       "            <td>28</td>\n",
       "            <td>245.52</td>\n",
       "            <td>United Kingdom</td>\n",
       "        </tr>\n",
       "    </tbody>\n",
       "</table>"
      ],
      "text/plain": [
       "[('Argentina', 1, 5, 39.6, 'Other'),\n",
       " ('Australia', 1, 10, 81.18, 'Other'),\n",
       " ('Austria', 1, 9, 69.3, 'Other'),\n",
       " ('Belgium', 1, 7, 60.38999999999999, 'Other'),\n",
       " ('Brazil', 5, 61, 427.68000000000006, 'Brazil'),\n",
       " ('Canada', 8, 76, 535.5900000000001, 'Canada'),\n",
       " ('Chile', 1, 13, 97.02000000000001, 'Other'),\n",
       " ('Czech Republic', 2, 30, 273.24000000000007, 'Czech Republic'),\n",
       " ('Denmark', 1, 10, 37.61999999999999, 'Other'),\n",
       " ('Finland', 1, 11, 79.2, 'Other'),\n",
       " ('France', 5, 50, 389.0699999999999, 'France'),\n",
       " ('Germany', 4, 41, 334.62, 'Germany'),\n",
       " ('Hungary', 1, 10, 78.21, 'Other'),\n",
       " ('India', 2, 21, 183.14999999999998, 'India'),\n",
       " ('Ireland', 1, 13, 114.83999999999997, 'Other'),\n",
       " ('Italy', 1, 9, 50.49, 'Other'),\n",
       " ('Netherlands', 1, 10, 65.34, 'Other'),\n",
       " ('Norway', 1, 9, 72.27000000000001, 'Other'),\n",
       " ('Poland', 1, 10, 76.22999999999999, 'Other'),\n",
       " ('Portugal', 2, 29, 185.13000000000002, 'Portugal'),\n",
       " ('Spain', 1, 11, 98.01, 'Other'),\n",
       " ('Sweden', 1, 10, 75.24, 'Other'),\n",
       " ('USA', 13, 131, 1040.4899999999998, 'USA'),\n",
       " ('United Kingdom', 3, 28, 245.52, 'United Kingdom')]"
      ]
     },
     "execution_count": 23,
     "metadata": {},
     "output_type": "execute_result"
    }
   ],
   "source": [
    "%%sql\n",
    "SELECT *,\n",
    "        CASE\n",
    "            WHEN total_number_of_customers == 1 THEN \"Other\"\n",
    "            ELSE country\n",
    "        END AS country_relabelled\n",
    "FROM country_purchase_data; "
   ]
  },
  {
   "cell_type": "markdown",
   "metadata": {},
   "source": [
    "Use the above query as a subquery and combine the data for Other into a single record."
   ]
  },
  {
   "cell_type": "code",
   "execution_count": 24,
   "metadata": {},
   "outputs": [
    {
     "name": "stdout",
     "output_type": "stream",
     "text": [
      " * sqlite:///chinook.db\n",
      "Done.\n"
     ]
    },
    {
     "data": {
      "text/html": [
       "<table>\n",
       "    <thead>\n",
       "        <tr>\n",
       "            <th>country</th>\n",
       "            <th>total_number_of_customers</th>\n",
       "            <th>total_number_of_orders</th>\n",
       "            <th>total_value_of_sales</th>\n",
       "        </tr>\n",
       "    </thead>\n",
       "    <tbody>\n",
       "        <tr>\n",
       "            <td>Brazil</td>\n",
       "            <td>5</td>\n",
       "            <td>61</td>\n",
       "            <td>427.68000000000006</td>\n",
       "        </tr>\n",
       "        <tr>\n",
       "            <td>Canada</td>\n",
       "            <td>8</td>\n",
       "            <td>76</td>\n",
       "            <td>535.5900000000001</td>\n",
       "        </tr>\n",
       "        <tr>\n",
       "            <td>Czech Republic</td>\n",
       "            <td>2</td>\n",
       "            <td>30</td>\n",
       "            <td>273.24000000000007</td>\n",
       "        </tr>\n",
       "        <tr>\n",
       "            <td>France</td>\n",
       "            <td>5</td>\n",
       "            <td>50</td>\n",
       "            <td>389.0699999999999</td>\n",
       "        </tr>\n",
       "        <tr>\n",
       "            <td>Germany</td>\n",
       "            <td>4</td>\n",
       "            <td>41</td>\n",
       "            <td>334.62</td>\n",
       "        </tr>\n",
       "        <tr>\n",
       "            <td>India</td>\n",
       "            <td>2</td>\n",
       "            <td>21</td>\n",
       "            <td>183.14999999999998</td>\n",
       "        </tr>\n",
       "        <tr>\n",
       "            <td>Other</td>\n",
       "            <td>15</td>\n",
       "            <td>147</td>\n",
       "            <td>1094.9399999999998</td>\n",
       "        </tr>\n",
       "        <tr>\n",
       "            <td>Portugal</td>\n",
       "            <td>2</td>\n",
       "            <td>29</td>\n",
       "            <td>185.13000000000002</td>\n",
       "        </tr>\n",
       "        <tr>\n",
       "            <td>USA</td>\n",
       "            <td>13</td>\n",
       "            <td>131</td>\n",
       "            <td>1040.4899999999998</td>\n",
       "        </tr>\n",
       "        <tr>\n",
       "            <td>United Kingdom</td>\n",
       "            <td>3</td>\n",
       "            <td>28</td>\n",
       "            <td>245.52</td>\n",
       "        </tr>\n",
       "    </tbody>\n",
       "</table>"
      ],
      "text/plain": [
       "[('Brazil', 5, 61, 427.68000000000006),\n",
       " ('Canada', 8, 76, 535.5900000000001),\n",
       " ('Czech Republic', 2, 30, 273.24000000000007),\n",
       " ('France', 5, 50, 389.0699999999999),\n",
       " ('Germany', 4, 41, 334.62),\n",
       " ('India', 2, 21, 183.14999999999998),\n",
       " ('Other', 15, 147, 1094.9399999999998),\n",
       " ('Portugal', 2, 29, 185.13000000000002),\n",
       " ('USA', 13, 131, 1040.4899999999998),\n",
       " ('United Kingdom', 3, 28, 245.52)]"
      ]
     },
     "execution_count": 24,
     "metadata": {},
     "output_type": "execute_result"
    }
   ],
   "source": [
    "%%sql\n",
    "SELECT country_relabelled country,\n",
    "        SUM(total_number_of_customers) total_number_of_customers,\n",
    "        SUM(total_number_of_orders) total_number_of_orders,\n",
    "        SUM(total_value_of_sales) total_value_of_sales\n",
    "FROM (\n",
    "        SELECT *,\n",
    "                CASE\n",
    "                    WHEN total_number_of_customers == 1 THEN \"Other\"\n",
    "                    ELSE country\n",
    "                END AS country_relabelled\n",
    "        FROM country_purchase_data\n",
    "        )\n",
    "GROUP BY country_relabelled;"
   ]
  },
  {
   "cell_type": "markdown",
   "metadata": {},
   "source": [
    "Create a VIEW for the above query as country_relabelled_purchase_data."
   ]
  },
  {
   "cell_type": "code",
   "execution_count": 25,
   "metadata": {},
   "outputs": [
    {
     "name": "stdout",
     "output_type": "stream",
     "text": [
      " * sqlite:///chinook.db\n",
      "Done.\n",
      "Done.\n"
     ]
    },
    {
     "data": {
      "text/plain": [
       "[]"
      ]
     },
     "execution_count": 25,
     "metadata": {},
     "output_type": "execute_result"
    }
   ],
   "source": [
    "%%sql\n",
    "DROP VIEW IF EXISTS country_relabelled_purchase_data;\n",
    "CREATE VIEW IF NOT EXISTS country_relabelled_purchase_data AS\n",
    "    SELECT country_relabelled country,\n",
    "            SUM(total_number_of_customers) total_number_of_customers,\n",
    "            SUM(total_number_of_orders) total_number_of_orders,\n",
    "            SUM(total_value_of_sales) total_value_of_sales\n",
    "    FROM (\n",
    "            SELECT *,\n",
    "                    CASE\n",
    "                        WHEN total_number_of_customers == 1 THEN \"Other\"\n",
    "                        ELSE country\n",
    "                    END AS country_relabelled\n",
    "            FROM country_purchase_data\n",
    "            )\n",
    "    GROUP BY country_relabelled;"
   ]
  },
  {
   "cell_type": "markdown",
   "metadata": {},
   "source": [
    "### Compute Averages And Display Other At The End"
   ]
  },
  {
   "cell_type": "code",
   "execution_count": 26,
   "metadata": {},
   "outputs": [
    {
     "name": "stdout",
     "output_type": "stream",
     "text": [
      " * sqlite:///chinook.db\n",
      "Done.\n"
     ]
    },
    {
     "data": {
      "text/html": [
       "<table>\n",
       "    <thead>\n",
       "        <tr>\n",
       "            <th>country</th>\n",
       "            <th>total_number_of_customers</th>\n",
       "            <th>total_number_of_orders</th>\n",
       "            <th>total_value_of_sales</th>\n",
       "            <th>order_by</th>\n",
       "        </tr>\n",
       "    </thead>\n",
       "    <tbody>\n",
       "        <tr>\n",
       "            <td>Brazil</td>\n",
       "            <td>5</td>\n",
       "            <td>61</td>\n",
       "            <td>427.68000000000006</td>\n",
       "            <td>0</td>\n",
       "        </tr>\n",
       "        <tr>\n",
       "            <td>Canada</td>\n",
       "            <td>8</td>\n",
       "            <td>76</td>\n",
       "            <td>535.5900000000001</td>\n",
       "            <td>0</td>\n",
       "        </tr>\n",
       "        <tr>\n",
       "            <td>Czech Republic</td>\n",
       "            <td>2</td>\n",
       "            <td>30</td>\n",
       "            <td>273.24000000000007</td>\n",
       "            <td>0</td>\n",
       "        </tr>\n",
       "        <tr>\n",
       "            <td>France</td>\n",
       "            <td>5</td>\n",
       "            <td>50</td>\n",
       "            <td>389.0699999999999</td>\n",
       "            <td>0</td>\n",
       "        </tr>\n",
       "        <tr>\n",
       "            <td>Germany</td>\n",
       "            <td>4</td>\n",
       "            <td>41</td>\n",
       "            <td>334.62</td>\n",
       "            <td>0</td>\n",
       "        </tr>\n",
       "        <tr>\n",
       "            <td>India</td>\n",
       "            <td>2</td>\n",
       "            <td>21</td>\n",
       "            <td>183.14999999999998</td>\n",
       "            <td>0</td>\n",
       "        </tr>\n",
       "        <tr>\n",
       "            <td>Other</td>\n",
       "            <td>15</td>\n",
       "            <td>147</td>\n",
       "            <td>1094.9399999999998</td>\n",
       "            <td>1</td>\n",
       "        </tr>\n",
       "        <tr>\n",
       "            <td>Portugal</td>\n",
       "            <td>2</td>\n",
       "            <td>29</td>\n",
       "            <td>185.13000000000002</td>\n",
       "            <td>0</td>\n",
       "        </tr>\n",
       "        <tr>\n",
       "            <td>USA</td>\n",
       "            <td>13</td>\n",
       "            <td>131</td>\n",
       "            <td>1040.4899999999998</td>\n",
       "            <td>0</td>\n",
       "        </tr>\n",
       "        <tr>\n",
       "            <td>United Kingdom</td>\n",
       "            <td>3</td>\n",
       "            <td>28</td>\n",
       "            <td>245.52</td>\n",
       "            <td>0</td>\n",
       "        </tr>\n",
       "    </tbody>\n",
       "</table>"
      ],
      "text/plain": [
       "[('Brazil', 5, 61, 427.68000000000006, 0),\n",
       " ('Canada', 8, 76, 535.5900000000001, 0),\n",
       " ('Czech Republic', 2, 30, 273.24000000000007, 0),\n",
       " ('France', 5, 50, 389.0699999999999, 0),\n",
       " ('Germany', 4, 41, 334.62, 0),\n",
       " ('India', 2, 21, 183.14999999999998, 0),\n",
       " ('Other', 15, 147, 1094.9399999999998, 1),\n",
       " ('Portugal', 2, 29, 185.13000000000002, 0),\n",
       " ('USA', 13, 131, 1040.4899999999998, 0),\n",
       " ('United Kingdom', 3, 28, 245.52, 0)]"
      ]
     },
     "execution_count": 26,
     "metadata": {},
     "output_type": "execute_result"
    }
   ],
   "source": [
    "%%sql\n",
    "SELECT\n",
    "    crpd.*,\n",
    "    CASE\n",
    "        WHEN crpd.country == 'Other' THEN 1\n",
    "        ELSE 0\n",
    "    END order_by\n",
    "FROM country_relabelled_purchase_data crpd;"
   ]
  },
  {
   "cell_type": "markdown",
   "metadata": {},
   "source": [
    "We will use the above result as subquery, and compute the averages. This way we can display the result with Other at the end of the table."
   ]
  },
  {
   "cell_type": "code",
   "execution_count": 27,
   "metadata": {},
   "outputs": [
    {
     "name": "stdout",
     "output_type": "stream",
     "text": [
      " * sqlite:///chinook.db\n",
      "Done.\n"
     ]
    },
    {
     "data": {
      "text/html": [
       "<table>\n",
       "    <thead>\n",
       "        <tr>\n",
       "            <th>country</th>\n",
       "            <th>total_number_of_customers</th>\n",
       "            <th>total_value_of_sales</th>\n",
       "            <th>average_value_of_sales_per_customer</th>\n",
       "            <th>average_order_value</th>\n",
       "        </tr>\n",
       "    </thead>\n",
       "    <tbody>\n",
       "        <tr>\n",
       "            <td>USA</td>\n",
       "            <td>13</td>\n",
       "            <td>1040.49</td>\n",
       "            <td>80.04</td>\n",
       "            <td>7.94</td>\n",
       "        </tr>\n",
       "        <tr>\n",
       "            <td>Canada</td>\n",
       "            <td>8</td>\n",
       "            <td>535.59</td>\n",
       "            <td>66.95</td>\n",
       "            <td>7.05</td>\n",
       "        </tr>\n",
       "        <tr>\n",
       "            <td>Brazil</td>\n",
       "            <td>5</td>\n",
       "            <td>427.68</td>\n",
       "            <td>85.54</td>\n",
       "            <td>7.01</td>\n",
       "        </tr>\n",
       "        <tr>\n",
       "            <td>France</td>\n",
       "            <td>5</td>\n",
       "            <td>389.07</td>\n",
       "            <td>77.81</td>\n",
       "            <td>7.78</td>\n",
       "        </tr>\n",
       "        <tr>\n",
       "            <td>Germany</td>\n",
       "            <td>4</td>\n",
       "            <td>334.62</td>\n",
       "            <td>83.66</td>\n",
       "            <td>8.16</td>\n",
       "        </tr>\n",
       "        <tr>\n",
       "            <td>Czech Republic</td>\n",
       "            <td>2</td>\n",
       "            <td>273.24</td>\n",
       "            <td>136.62</td>\n",
       "            <td>9.11</td>\n",
       "        </tr>\n",
       "        <tr>\n",
       "            <td>United Kingdom</td>\n",
       "            <td>3</td>\n",
       "            <td>245.52</td>\n",
       "            <td>81.84</td>\n",
       "            <td>8.77</td>\n",
       "        </tr>\n",
       "        <tr>\n",
       "            <td>Portugal</td>\n",
       "            <td>2</td>\n",
       "            <td>185.13</td>\n",
       "            <td>92.57</td>\n",
       "            <td>6.38</td>\n",
       "        </tr>\n",
       "        <tr>\n",
       "            <td>India</td>\n",
       "            <td>2</td>\n",
       "            <td>183.15</td>\n",
       "            <td>91.58</td>\n",
       "            <td>8.72</td>\n",
       "        </tr>\n",
       "        <tr>\n",
       "            <td>Other</td>\n",
       "            <td>15</td>\n",
       "            <td>1094.94</td>\n",
       "            <td>73.0</td>\n",
       "            <td>7.45</td>\n",
       "        </tr>\n",
       "    </tbody>\n",
       "</table>"
      ],
      "text/plain": [
       "[('USA', 13, 1040.49, 80.04, 7.94),\n",
       " ('Canada', 8, 535.59, 66.95, 7.05),\n",
       " ('Brazil', 5, 427.68, 85.54, 7.01),\n",
       " ('France', 5, 389.07, 77.81, 7.78),\n",
       " ('Germany', 4, 334.62, 83.66, 8.16),\n",
       " ('Czech Republic', 2, 273.24, 136.62, 9.11),\n",
       " ('United Kingdom', 3, 245.52, 81.84, 8.77),\n",
       " ('Portugal', 2, 185.13, 92.57, 6.38),\n",
       " ('India', 2, 183.15, 91.58, 8.72),\n",
       " ('Other', 15, 1094.94, 73.0, 7.45)]"
      ]
     },
     "execution_count": 27,
     "metadata": {},
     "output_type": "execute_result"
    }
   ],
   "source": [
    "%%sql\n",
    "SELECT country,\n",
    "        total_number_of_customers,\n",
    "        ROUND(total_value_of_sales, 2) total_value_of_sales,\n",
    "        ROUND(total_value_of_sales/total_number_of_customers, 2) average_value_of_sales_per_customer,\n",
    "        ROUND(total_value_of_sales/total_number_of_orders, 2) average_order_value        \n",
    "FROM ( SELECT\n",
    "            crpd.*,\n",
    "            CASE\n",
    "                WHEN crpd.country == 'Other' THEN 1\n",
    "                ELSE 0\n",
    "            END order_by\n",
    "        FROM country_relabelled_purchase_data crpd\n",
    "        )\n",
    "ORDER BY order_by ASC, total_value_of_sales DESC"
   ]
  },
  {
   "cell_type": "markdown",
   "metadata": {},
   "source": [
    "### Conclusion: Project Goal-3\n",
    "There are opportunities in countries like India, Portugal, UK and Czech Republic. These countries have low total_value_of_sales due to low number of customers. However higher average_value_of_sales_per_customer indicates that people are capable of spending more. This is especially true for Czech Republic with the highest value of \\\\$136.62 for the average_value_of_sales_per_customer. But we have to keep in mind that this analysis is based on very little data, so it is advisable to collect more data from new customers in these countries and make sure that these trends hold for the new set of customers. "
   ]
  }
 ],
 "metadata": {
  "kernelspec": {
   "display_name": "Python 3",
   "language": "python",
   "name": "python3"
  },
  "language_info": {
   "codemirror_mode": {
    "name": "ipython",
    "version": 3
   },
   "file_extension": ".py",
   "mimetype": "text/x-python",
   "name": "python",
   "nbconvert_exporter": "python",
   "pygments_lexer": "ipython3",
   "version": "3.8.10"
  }
 },
 "nbformat": 4,
 "nbformat_minor": 2
}
